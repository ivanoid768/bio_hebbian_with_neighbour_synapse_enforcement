{
 "cells": [
  {
   "cell_type": "code",
   "execution_count": 2,
   "metadata": {},
   "outputs": [],
   "source": [
    "import numpy as np;\n",
    "import pandas as pd\n",
    "import matplotlib.pyplot as plt\n",
    "import seaborn as sns\n",
    "%matplotlib inline"
   ]
  },
  {
   "cell_type": "code",
   "execution_count": 3,
   "metadata": {},
   "outputs": [
    {
     "name": "stdout",
     "output_type": "stream",
     "text": [
      "[[0. 0. 0. 0. 0. 0. 0. 0.]\n",
      " [0. 0. 0. 0. 0. 0. 0. 0.]\n",
      " [0. 0. 0. 0. 0. 0. 0. 0.]\n",
      " [0. 0. 0. 0. 0. 0. 0. 0.]]\n",
      "[[0. 0. 0. 0. 0. 0. 0. 0.]\n",
      " [0. 0. 0. 0. 0. 0. 0. 0.]\n",
      " [0. 0. 0. 0. 0. 0. 0. 0.]\n",
      " [0. 0. 0. 0. 0. 0. 0. 0.]]\n"
     ]
    },
    {
     "data": {
      "text/plain": [
       "array([[12.63733271, 13.34317314,  8.55247806,  8.96941114,  8.08667986,\n",
       "        13.94535074, 14.39048064, 11.48991017],\n",
       "       [10.77447438, 11.31290612, 13.14831148, 15.92758778, 16.00455789,\n",
       "        14.01215727,  9.41137651,  5.9447042 ],\n",
       "       [12.61842914, 14.782562  , 13.3798736 , 10.41348411, 11.47782393,\n",
       "        12.56296953, 13.72139289, 12.26557653],\n",
       "       [12.20793647, 12.86945534,  7.91047929, 11.70748575,  7.27252227,\n",
       "         5.08393057,  3.77540419,  4.94350463]])"
      ]
     },
     "execution_count": 3,
     "metadata": {},
     "output_type": "execute_result"
    }
   ],
   "source": [
    "W = np.random.randint(0, 9, 4*8).reshape(4, 8)\n",
    "\n",
    "syn_n = 1.5\n",
    "syn_size = W.shape[1]\n",
    "W_idx = np.arange(syn_size)\n",
    "W_len = np.abs(W_idx[np.newaxis].T - W_idx)\n",
    "W_len = (np.array(W_len, dtype='float') + 1) ** -syn_n\n",
    "\n",
    "res_sum = np.sum((W.T * W_len[np.newaxis].T).T, axis=1)\n",
    "res_1 = np.tensordot(W, W_len, axes=(1,1)).reshape(W.shape[0],W.shape[1])\n",
    "res_dot = np.dot(W, W_len) #.reshape(W.shape[0],W.shape[1])\n",
    "print(res_1 - res_sum)\n",
    "print(res_dot - res_sum)\n",
    "res_sum\n"
   ]
  },
  {
   "cell_type": "code",
   "execution_count": 4,
   "metadata": {},
   "outputs": [
    {
     "name": "stdout",
     "output_type": "stream",
     "text": [
      "[[0. 0. 0. 0. 0. 0. 0. 0.]\n",
      " [0. 0. 0. 0. 0. 0. 0. 0.]\n",
      " [0. 0. 0. 0. 0. 0. 0. 0.]\n",
      " [0. 0. 0. 0. 0. 0. 0. 0.]]\n",
      "[[0. 0. 0. 0. 0. 0. 0. 0.]\n",
      " [0. 0. 0. 0. 0. 0. 0. 0.]\n",
      " [0. 0. 0. 0. 0. 0. 0. 0.]\n",
      " [0. 0. 0. 0. 0. 0. 0. 0.]]\n"
     ]
    },
    {
     "data": {
      "text/plain": [
       "array([[12.63733271, 13.34317314,  8.55247806,  8.96941114,  8.08667986,\n",
       "        13.94535074, 14.39048064, 11.48991017],\n",
       "       [10.77447438, 11.31290612, 13.14831148, 15.92758778, 16.00455789,\n",
       "        14.01215727,  9.41137651,  5.9447042 ],\n",
       "       [12.61842914, 14.782562  , 13.3798736 , 10.41348411, 11.47782393,\n",
       "        12.56296953, 13.72139289, 12.26557653],\n",
       "       [12.20793647, 12.86945534,  7.91047929, 11.70748575,  7.27252227,\n",
       "         5.08393057,  3.77540419,  4.94350463]])"
      ]
     },
     "execution_count": 4,
     "metadata": {},
     "output_type": "execute_result"
    }
   ],
   "source": [
    "W_len_2 = np.copy(W_len)\n",
    "\n",
    "dW_2 = np.zeros(W.shape)\n",
    "for n_idx in range(W.shape[0]):\n",
    "    dW_2[n_idx] = np.dot(W[n_idx], W_len_2)\n",
    "print(res_1 - dW_2)\n",
    "print(res_dot - dW_2)\n",
    "dW_2"
   ]
  }
 ],
 "metadata": {
  "kernelspec": {
   "display_name": "Python 3",
   "language": "python",
   "name": "python3"
  },
  "language_info": {
   "codemirror_mode": {
    "name": "ipython",
    "version": 3
   },
   "file_extension": ".py",
   "mimetype": "text/x-python",
   "name": "python",
   "nbconvert_exporter": "python",
   "pygments_lexer": "ipython3",
   "version": "3.10.9"
  },
  "orig_nbformat": 4,
  "vscode": {
   "interpreter": {
    "hash": "aa38ca2d4ac5334f8facb9127846041594939b57ea42b4afe5d7eb655aac64f1"
   }
  }
 },
 "nbformat": 4,
 "nbformat_minor": 2
}
