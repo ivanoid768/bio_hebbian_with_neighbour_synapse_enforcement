{
 "cells": [
  {
   "cell_type": "code",
   "execution_count": 2,
   "metadata": {},
   "outputs": [],
   "source": [
    "from mnist import MNIST \n",
    "import numpy as np\n",
    "from pylab import *\n",
    "from matplotlib import colors\n",
    "%matplotlib inline\n",
    "\n",
    "mndata = MNIST('./data')\n",
    "\n",
    "mndata.load_training()\n",
    "img_side = 28\n",
    "n_mnist_pixels = img_side*img_side"
   ]
  },
  {
   "cell_type": "code",
   "execution_count": 3,
   "metadata": {},
   "outputs": [
    {
     "data": {
      "text/plain": [
       "100"
      ]
     },
     "execution_count": 3,
     "metadata": {},
     "output_type": "execute_result"
    }
   ],
   "source": [
    "labels = mndata.train_labels\n",
    "\n",
    "cluster_size = 10\n",
    "train_inputs_idx = []\n",
    "for idx in range(10):\n",
    "    label_idx = np.where(np.isin(labels,[idx]))[0][:cluster_size]\n",
    "    train_inputs_idx.append(label_idx)\n",
    "\n",
    "samples_idx = np.array(train_inputs_idx, dtype='int').flatten()\n",
    "samples_idx.size"
   ]
  },
  {
   "cell_type": "code",
   "execution_count": 4,
   "metadata": {},
   "outputs": [],
   "source": [
    "train_images_arr = np.array(mndata.train_images)\n",
    "samples = train_images_arr[samples_idx]"
   ]
  },
  {
   "cell_type": "code",
   "execution_count": 5,
   "metadata": {},
   "outputs": [
    {
     "name": "stdout",
     "output_type": "stream",
     "text": [
      "[0, 0, 0, 0, 0, 0, 0, 0, 0, 0, 0, 0, 0, 0, 0, 0, 0, 0, 0, 0, 0, 0, 0, 0, 0, 0, 0, 0]\n",
      "[0, 0, 0, 0, 0, 0, 0, 0, 0, 0, 0, 0, 0, 0, 0, 0, 0, 0, 0, 0, 0, 0, 0, 0, 0, 0, 0, 0]\n",
      "[0, 0, 0, 0, 0, 0, 0, 0, 0, 0, 0, 0, 0, 0, 0, 0, 0, 0, 0, 0, 0, 0, 0, 0, 0, 0, 0, 0]\n",
      "[0, 0, 0, 0, 0, 0, 0, 0, 0, 0, 0, 0, 0, 0, 0, 0, 0, 0, 0, 0, 0, 0, 0, 0, 0, 0, 0, 0]\n",
      "[0, 0, 0, 0, 0, 0, 0, 0, 0, 0, 0, 0, 0, 0, 0, 0, 0, 0, 0, 0, 0, 0, 0, 0, 0, 0, 0, 0]\n",
      "[0, 0, 0, 0, 0, 0, 0, 0, 0, 0, 0, 0, 0, 0, 0, 1, 1, 1, 1, 1, 1, 0, 0, 0, 0, 0, 0, 0]\n",
      "[0, 0, 0, 0, 0, 0, 0, 0, 0, 0, 0, 0, 0, 1, 1, 1, 1, 1, 1, 1, 1, 1, 0, 0, 0, 0, 0, 0]\n",
      "[0, 0, 0, 0, 0, 0, 0, 0, 0, 0, 0, 1, 1, 1, 1, 1, 1, 1, 1, 1, 1, 1, 0, 0, 0, 0, 0, 0]\n",
      "[0, 0, 0, 0, 0, 0, 0, 0, 0, 1, 1, 1, 1, 1, 1, 1, 1, 1, 1, 1, 1, 1, 0, 0, 0, 0, 0, 0]\n",
      "[0, 0, 0, 0, 0, 0, 0, 0, 0, 1, 1, 1, 1, 1, 1, 1, 1, 1, 0, 1, 1, 1, 0, 0, 0, 0, 0, 0]\n",
      "[0, 0, 0, 0, 0, 0, 0, 0, 1, 1, 1, 1, 1, 1, 0, 1, 1, 0, 0, 1, 1, 1, 0, 0, 0, 0, 0, 0]\n",
      "[0, 0, 0, 0, 0, 0, 0, 1, 1, 1, 1, 1, 0, 0, 0, 0, 0, 0, 0, 1, 1, 1, 0, 0, 0, 0, 0, 0]\n",
      "[0, 0, 0, 0, 0, 0, 0, 1, 1, 1, 1, 0, 0, 0, 0, 0, 0, 0, 0, 1, 1, 1, 0, 0, 0, 0, 0, 0]\n",
      "[0, 0, 0, 0, 0, 0, 1, 1, 1, 1, 0, 0, 0, 0, 0, 0, 0, 0, 0, 1, 1, 1, 0, 0, 0, 0, 0, 0]\n",
      "[0, 0, 0, 0, 0, 0, 1, 1, 1, 1, 0, 0, 0, 0, 0, 0, 0, 0, 0, 1, 1, 1, 0, 0, 0, 0, 0, 0]\n",
      "[0, 0, 0, 0, 0, 0, 1, 1, 1, 0, 0, 0, 0, 0, 0, 0, 0, 0, 0, 1, 1, 1, 0, 0, 0, 0, 0, 0]\n",
      "[0, 0, 0, 0, 0, 0, 1, 1, 1, 0, 0, 0, 0, 0, 0, 0, 0, 0, 0, 1, 1, 1, 0, 0, 0, 0, 0, 0]\n",
      "[0, 0, 0, 0, 0, 0, 1, 1, 1, 0, 0, 0, 0, 0, 0, 0, 0, 0, 0, 1, 1, 1, 0, 0, 0, 0, 0, 0]\n",
      "[0, 0, 0, 0, 0, 1, 1, 1, 1, 0, 0, 0, 0, 0, 0, 0, 0, 0, 0, 1, 1, 1, 0, 0, 0, 0, 0, 0]\n",
      "[0, 0, 0, 0, 0, 0, 1, 1, 1, 0, 0, 0, 0, 0, 0, 0, 0, 0, 1, 1, 1, 1, 0, 0, 0, 0, 0, 0]\n",
      "[0, 0, 0, 0, 0, 0, 1, 1, 1, 0, 0, 0, 0, 0, 0, 0, 0, 1, 1, 1, 1, 0, 0, 0, 0, 0, 0, 0]\n",
      "[0, 0, 0, 0, 0, 0, 1, 1, 1, 1, 0, 0, 0, 0, 0, 1, 1, 1, 1, 1, 0, 0, 0, 0, 0, 0, 0, 0]\n",
      "[0, 0, 0, 0, 0, 0, 1, 1, 1, 1, 1, 1, 1, 1, 1, 1, 1, 1, 0, 0, 0, 0, 0, 0, 0, 0, 0, 0]\n",
      "[0, 0, 0, 0, 0, 0, 1, 1, 1, 1, 1, 1, 1, 1, 1, 1, 1, 0, 0, 0, 0, 0, 0, 0, 0, 0, 0, 0]\n",
      "[0, 0, 0, 0, 0, 0, 0, 1, 1, 1, 1, 1, 1, 1, 1, 1, 0, 0, 0, 0, 0, 0, 0, 0, 0, 0, 0, 0]\n",
      "[0, 0, 0, 0, 0, 0, 0, 0, 0, 0, 0, 0, 0, 0, 0, 0, 0, 0, 0, 0, 0, 0, 0, 0, 0, 0, 0, 0]\n",
      "[0, 0, 0, 0, 0, 0, 0, 0, 0, 0, 0, 0, 0, 0, 0, 0, 0, 0, 0, 0, 0, 0, 0, 0, 0, 0, 0, 0]\n",
      "[0, 0, 0, 0, 0, 0, 0, 0, 0, 0, 0, 0, 0, 0, 0, 0, 0, 0, 0, 0, 0, 0, 0, 0, 0, 0, 0, 0]\n"
     ]
    }
   ],
   "source": [
    "samples[samples < 128] = 0\n",
    "samples[samples >= 128] = 1\n",
    "\n",
    "smpl = samples[4].reshape(28, 28)\n",
    "for i in smpl:\n",
    "    print(i.tolist())"
   ]
  },
  {
   "cell_type": "code",
   "execution_count": 24,
   "metadata": {},
   "outputs": [
    {
     "name": "stdout",
     "output_type": "stream",
     "text": [
      "W (40, 784) 1.0 1.0 1.0\n",
      "W (40, 784) 1.0 -0.4999706702739606 0.2964727412620119\n"
     ]
    }
   ],
   "source": [
    "layer_size = 10*4\n",
    "\n",
    "I = np.zeros(n_mnist_pixels)\n",
    "O = np.zeros(layer_size)\n",
    "W = np.ones((O.size, I.size))\n",
    "Trace = np.zeros((O.size, I.size))\n",
    "print('W', W.shape, W.max(), W.min(), np.median(W))\n",
    "\n",
    "k = 1\n",
    "push_delta = 0.4\n",
    "\n",
    "prec = 1e-30\n",
    "\n",
    "epoch_cnt = 100\n",
    "eps0 = 0.02\n",
    "\n",
    "eps = 0.05\n",
    "rate_drop = 0.0\n",
    "\n",
    "AVG_O = np.zeros(O.shape)\n",
    "AVG_O_CNT = np.zeros(O.shape)\n",
    "\n",
    "samples_idx = np.arange(samples.shape[0])\n",
    "\n",
    "for epoch_idx in range(epoch_cnt):\n",
    "    # eps = (epoch_cnt - epoch_idx) * eps0\n",
    "\n",
    "    np.random.shuffle(samples_idx)\n",
    "\n",
    "    for i_idx in samples_idx:\n",
    "        I = samples[i_idx]\n",
    "\n",
    "        # infer\n",
    "        O = np.dot(W, I)\n",
    "\n",
    "        # train\n",
    "        winner_ids = np.argsort(O)[::-1][:1+k]\n",
    "        winner = winner_ids[0]\n",
    "        loosers = winner_ids[1:1+k]\n",
    "        \n",
    "        # dW = np.zeros(W.shape)\n",
    "        # dW[winner] = I * O[winner]\n",
    "        # dW[loosers] = -1 * I * O[loosers] * push_delta\n",
    "\n",
    "        # # norm \n",
    "        # nc = np.linalg.norm(dW, ord=1)\n",
    "        # if nc < prec:\n",
    "        #     nc = prec\n",
    "        # dW = np.true_divide(dW, nc)\n",
    "\n",
    "        # update\n",
    "        W[winner] = (1 - eps) * W[winner] + eps * (I - 0.5) + Trace[winner]*eps\n",
    "        W[winner] = np.clip(W[winner], -1, 1)\n",
    "\n",
    "        W[loosers] = (1 - eps) * W[loosers] + (eps * (I - 0.5) * -push_delta) + Trace[loosers]*eps\n",
    "        W[loosers] = np.clip(W[loosers], -1, 1)\n",
    "\n",
    "        # update Trace\n",
    "        rate_Trace = np.zeros(I.shape)\n",
    "        rate_Trace[(I > 0.5)] = 0.3\n",
    "        rate_Trace[(I < 0.5)] = -0.001\n",
    "\n",
    "        dTrace = np.zeros(W.shape)\n",
    "        dTrace[winner_ids] = rate_Trace\n",
    "        Trace += dTrace\n",
    "        Trace = np.clip(Trace, 0, 1)\n",
    "\n",
    "        eps -= eps * rate_drop\n",
    "\n",
    "print('W', W.shape, W.max(), W.min(), np.median(W))"
   ]
  },
  {
   "cell_type": "code",
   "execution_count": 25,
   "metadata": {},
   "outputs": [
    {
     "data": {
      "image/png": "[encoded data removed]",
      "text/plain": [
       "<Figure size 1000x400 with 40 Axes>"
      ]
     },
     "metadata": {},
     "output_type": "display_data"
    }
   ],
   "source": [
    "row_size = 10\n",
    "col_size = int(layer_size / row_size)\n",
    "\n",
    "figure(figsize=(row_size, col_size))\n",
    "\n",
    "for col_idx in range(col_size):\n",
    "    for row_idx in range(row_size):\n",
    "        n_W_idx = col_idx * row_size + row_idx\n",
    "\n",
    "        aimg = W[n_W_idx].reshape(img_side, img_side)\n",
    "\n",
    "        subplot(col_size, row_size, n_W_idx + 1)\n",
    "\n",
    "        imshow(aimg,\n",
    "               interpolation='none',\n",
    "               aspect='auto',\n",
    "               cmap='bone',  # seismic\n",
    "            #    vmax=1,\n",
    "            #    vmin=-1,\n",
    "                #   vmax=np.max(np.abs(aimg)),\n",
    "                #   vmin=-np.max(np.abs(aimg))\n",
    "               )\n",
    "        axis(\"off\")\n",
    "\n",
    "show()"
   ]
  }
 ],
 "metadata": {
  "kernelspec": {
   "display_name": "Python 3",
   "language": "python",
   "name": "python3"
  },
  "language_info": {
   "codemirror_mode": {
    "name": "ipython",
    "version": 3
   },
   "file_extension": ".py",
   "mimetype": "text/x-python",
   "name": "python",
   "nbconvert_exporter": "python",
   "pygments_lexer": "ipython3",
   "version": "3.10.9"
  },
  "orig_nbformat": 4,
  "vscode": {
   "interpreter": {
    "hash": "aa38ca2d4ac5334f8facb9127846041594939b57ea42b4afe5d7eb655aac64f1"
   }
  }
 },
 "nbformat": 4,
 "nbformat_minor": 2
}
