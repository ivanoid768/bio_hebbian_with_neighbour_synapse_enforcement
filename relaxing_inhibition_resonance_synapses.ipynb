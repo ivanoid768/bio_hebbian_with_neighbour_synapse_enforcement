{
 "cells": [
  {
   "cell_type": "code",
   "execution_count": 97,
   "metadata": {},
   "outputs": [],
   "source": [
    "from mnist import MNIST \n",
    "import numpy as np\n",
    "from pylab import *\n",
    "from matplotlib import colors\n",
    "%matplotlib inline\n",
    "\n",
    "mndata = MNIST('./data')\n",
    "\n",
    "mndata.load_training()\n",
    "img_side = 28\n",
    "n_mnist_pixels = img_side*img_side"
   ]
  },
  {
   "cell_type": "code",
   "execution_count": 98,
   "metadata": {},
   "outputs": [
    {
     "data": {
      "text/plain": [
       "20"
      ]
     },
     "execution_count": 98,
     "metadata": {},
     "output_type": "execute_result"
    }
   ],
   "source": [
    "labels = mndata.train_labels\n",
    "\n",
    "cluster_size = 10\n",
    "train_inputs_idx = []\n",
    "for idx in [0, 4]:\n",
    "    label_idx = np.where(np.isin(labels,[idx]))[0][:cluster_size]\n",
    "    train_inputs_idx.append(label_idx)\n",
    "\n",
    "samples_idx = np.array(train_inputs_idx, dtype='int').flatten()\n",
    "samples_idx.size"
   ]
  },
  {
   "cell_type": "code",
   "execution_count": 99,
   "metadata": {},
   "outputs": [
    {
     "data": {
      "text/plain": [
       "(20, 784)"
      ]
     },
     "execution_count": 99,
     "metadata": {},
     "output_type": "execute_result"
    }
   ],
   "source": [
    "images = []\n",
    "for sample_idx in samples_idx.flatten():\n",
    "    images.append(mndata.train_images[sample_idx])\n",
    "\n",
    "images = np.array(images, dtype='float')\n",
    "images = images / 255\n",
    "images.shape"
   ]
  },
  {
   "cell_type": "code",
   "execution_count": 100,
   "metadata": {},
   "outputs": [],
   "source": [
    "def simple_plot(T: list):\n",
    "    T_arr = np.array(T, dtype=float)\n",
    "\n",
    "    fig, axs = plt.subplots(1, 1, figsize=(50, 5), tight_layout=True)\n",
    "    axs.plot(np.arange(T_arr.size), T_arr)\n",
    "\n",
    "\n",
    "    plt.show()"
   ]
  },
  {
   "cell_type": "code",
   "execution_count": 101,
   "metadata": {},
   "outputs": [],
   "source": [
    "from typing import Literal\n",
    "\n",
    "def show_image(image: ndarray, cmap: Literal['bone', 'Greys'] = 'bone'):\n",
    "    # figure(figsize=(15, 10))\n",
    "\n",
    "    imshow(np.array(image),\n",
    "        interpolation='none',\n",
    "        aspect='equal',\n",
    "        cmap=cmap,\n",
    "        )\n",
    "\n",
    "    axis(\"off\")\n",
    "\n",
    "    show()"
   ]
  },
  {
   "cell_type": "code",
   "execution_count": 102,
   "metadata": {},
   "outputs": [],
   "source": [
    "def get_discount_matrix(size):\n",
    "    a = np.arange(size)\n",
    "    a = np.abs(np.abs(a - a[np.newaxis].T) - np.max(a))\n",
    "    np.fill_diagonal(a, 0)\n",
    "\n",
    "    return a"
   ]
  },
  {
   "cell_type": "code",
   "execution_count": 103,
   "metadata": {},
   "outputs": [
    {
     "data": {
      "text/plain": [
       "(20, 784)"
      ]
     },
     "execution_count": 103,
     "metadata": {},
     "output_type": "execute_result"
    }
   ],
   "source": [
    "def show_images_table(images_2d: ndarray, img_side: int = 28, row_size=10):\n",
    "    column_size = int(images.shape[0] / row_size)\n",
    "\n",
    "    shaped_images = images_2d.reshape(column_size, row_size, img_side, img_side)\n",
    "    shaped_images = shaped_images.swapaxes(1, 2).reshape(column_size*img_side, row_size*img_side)\n",
    "\n",
    "    figure(figsize=(15, 10))\n",
    "\n",
    "    imshow(shaped_images,\n",
    "           interpolation='none',\n",
    "           aspect='equal',\n",
    "           cmap='bone',\n",
    "           )\n",
    "    \n",
    "    axis(\"off\")\n",
    "\n",
    "# show_images_table(images_2d=images)\n",
    "images.shape"
   ]
  },
  {
   "cell_type": "code",
   "execution_count": 104,
   "metadata": {},
   "outputs": [],
   "source": [
    "def infer(input: ndarray, W: ndarray, iter_cnt: int):\n",
    "    I = np.copy(input)\n",
    "\n",
    "    O = np.zeros(I.size)\n",
    "\n",
    "    T = []\n",
    "    OST = []\n",
    "\n",
    "    for iter_idx in range(iter_cnt):\n",
    "        DO = np.exp((I - W)**2 * -20.0)\n",
    "        O += np.sum(DO, axis=1)\n",
    "\n",
    "        O = O ** 2\n",
    "\n",
    "        # inhibition\n",
    "        O[np.where(O < np.mean(O))] = 0\n",
    "\n",
    "        # recur\n",
    "        O /= np.max(O)\n",
    "\n",
    "        I = np.copy(O)\n",
    "\n",
    "        # stats\n",
    "        # t = np.sum(O > 0)\n",
    "        t = np.mean(O)\n",
    "        # t = np.sum(O)\n",
    "\n",
    "        T.append(t)\n",
    "\n",
    "        OST.append(np.copy(O))\n",
    "    \n",
    "    return T, OST\n"
   ]
  },
  {
   "cell_type": "code",
   "execution_count": 105,
   "metadata": {},
   "outputs": [
    {
     "name": "stdout",
     "output_type": "stream",
     "text": [
      "W (784, 784) 0.9999988822864457 6.536714225457985e-07 0.49978369189225785\n",
      "I.shape=(784,) I.max()=1.0 I.min()=0.0 np.median(I)=0.0\n",
      "np.max(O)=1.0\n",
      "np.max(O)=0.19224722134553163 np.max(NDO)=0.9999999999095177\n",
      "np.max(O)=1.9230514042153015\n",
      "np.max(O)=1.1440136062754322 np.max(NDO)=0.9999999999998889\n",
      "np.max(O)=1.9252773313176168\n",
      "np.max(O)=1.1374318642982533 np.max(NDO)=0.9999999999989848\n",
      "np.max(O)=1.9263616004622994\n",
      "np.max(O)=1.1287922153856802 np.max(NDO)=0.9999999999284143\n",
      "np.max(O)=1.927563099866799\n",
      "np.max(O)=1.118696950668555 np.max(NDO)=0.9999999999998223\n",
      "np.max(O)=1.9276072371648856\n",
      "np.max(O)=1.1085046005278378 np.max(NDO)=0.9999999999975597\n",
      "np.max(O)=1.9244831579272743\n",
      "np.max(O)=1.099684978720648 np.max(NDO)=0.999999999993667\n",
      "np.max(O)=1.9231393921974813\n",
      "np.max(O)=1.0933119046950561 np.max(NDO)=0.999999999963709\n",
      "np.max(O)=1.9209159580808666\n",
      "np.max(O)=1.0872482919289321 np.max(NDO)=0.9999999999883931\n",
      "np.max(O)=1.921285386306426\n",
      "np.max(O)=1.0882941668921728 np.max(NDO)=0.9999999999032981\n",
      "np.max(O)=1.92298320152136\n",
      "np.max(O)=1.0836068619717572 np.max(NDO)=0.9999999998961295\n",
      "np.max(O)=1.9252858700784214\n",
      "np.max(O)=1.0815223542960664 np.max(NDO)=0.9999999999894015\n",
      "np.max(O)=1.9268214100960344\n",
      "np.max(O)=1.0786334428539366 np.max(NDO)=0.9999999999970289\n",
      "np.max(O)=1.927241370024067\n",
      "np.max(O)=1.075015195132944 np.max(NDO)=0.9999999999993676\n",
      "np.max(O)=1.933115680186869\n",
      "np.max(O)=1.0856454023769224 np.max(NDO)=0.9999999999909149\n",
      "np.max(O)=1.9441982957912112\n",
      "np.max(O)=1.093749097041532 np.max(NDO)=0.9999999999972353\n",
      "np.max(O)=1.9401088620031448\n",
      "np.max(O)=1.090128074218105 np.max(NDO)=0.9999999999900157\n",
      "np.max(O)=1.9360667132531733\n",
      "np.max(O)=1.0868809461136268 np.max(NDO)=0.9999999999914204\n",
      "np.max(O)=1.9329015968789827\n",
      "np.max(O)=1.0844204154444976 np.max(NDO)=0.9999999998640444\n",
      "np.max(O)=1.9316566899186105\n",
      "np.max(O)=1.0823980320302184 np.max(NDO)=0.9999999999917517\n",
      "np.max(O)=1.9318030590846433\n",
      "np.max(O)=1.0809111596539664 np.max(NDO)=0.9999999999909078\n",
      "np.max(O)=1.9328897581834101\n",
      "np.max(O)=1.0808142007110937 np.max(NDO)=0.9999999999689287\n",
      "np.max(O)=1.9343010101288352\n",
      "np.max(O)=1.0814489402226262 np.max(NDO)=0.9999999999999297\n",
      "np.max(O)=1.9358671542835864\n",
      "np.max(O)=1.0822312026067424 np.max(NDO)=0.9999999999745308\n",
      "np.max(O)=1.9374345498289127\n",
      "np.max(O)=1.0832183933438588 np.max(NDO)=0.9999999999953506\n",
      "np.max(O)=1.9388247931572593\n",
      "np.max(O)=1.0842632174351239 np.max(NDO)=0.9999999999934827\n",
      "np.max(O)=1.939986922172706\n",
      "np.max(O)=1.0852332191629168 np.max(NDO)=0.9999999999979029\n",
      "np.max(O)=1.9409473548403517\n",
      "np.max(O)=1.0860906216925328 np.max(NDO)=0.9999999999992631\n",
      "np.max(O)=1.9417888074914114\n",
      "np.max(O)=1.0869281523381944 np.max(NDO)=0.9999999999983079\n",
      "np.max(O)=1.9425883329373348\n",
      "np.max(O)=1.0877420495637333 np.max(NDO)=0.999999999999006\n",
      "np.max(O)=1.94339035270963\n",
      "np.max(O)=1.0885565977328704 np.max(NDO)=0.9999999999999876\n",
      "np.max(O)=1.9442323544929905\n",
      "np.max(O)=1.0894459450015275 np.max(NDO)=0.9999999999999346\n",
      "np.max(O)=1.9453161328764963\n",
      "np.max(O)=1.0904618187355553 np.max(NDO)=0.9999999999900184\n",
      "np.max(O)=1.9466832649198413\n",
      "np.max(O)=1.091677460396229 np.max(NDO)=0.9999999999905068\n",
      "np.max(O)=1.9475716268027445\n",
      "np.max(O)=1.0928068584805182 np.max(NDO)=0.9999999999998068\n",
      "np.max(O)=1.9483448246514086\n",
      "np.max(O)=1.0941087517811035 np.max(NDO)=0.999999999993244\n",
      "np.max(O)=1.9494383290986246\n",
      "np.max(O)=1.0957744981875974 np.max(NDO)=0.9999999999938705\n",
      "np.max(O)=1.9508286733017564\n",
      "np.max(O)=1.097786799551427 np.max(NDO)=0.9999999999995067\n",
      "np.max(O)=1.9575463764807348\n",
      "np.max(O)=1.1001269253987382 np.max(NDO)=0.9999999998568939\n",
      "np.max(O)=1.9819987394547702\n",
      "np.max(O)=1.1247198418627264 np.max(NDO)=0.9999999999923281\n",
      "np.max(O)=1.9864534255970148\n",
      "np.max(O)=1.1334299820783063 np.max(NDO)=0.9999999999999816\n",
      "np.max(O)=1.9877479435034524\n",
      "np.max(O)=1.138803326864125 np.max(NDO)=0.9999999999985779\n",
      "np.max(O)=1.9894273243541736\n",
      "np.max(O)=1.1528152611975642 np.max(NDO)=0.9999999999999931\n",
      "np.max(O)=2.0\n",
      "np.max(O)=1.1716514414600896 np.max(NDO)=0.99999999999999\n",
      "np.max(O)=1.99965354285377\n",
      "np.max(O)=1.177656526265844 np.max(NDO)=0.9999999999980724\n",
      "np.max(O)=1.9988088128826107\n",
      "np.max(O)=1.1834535611538315 np.max(NDO)=0.9999999999972257\n",
      "np.max(O)=1.9980757638419857\n",
      "np.max(O)=1.1892960023244716 np.max(NDO)=0.9999999999988157\n",
      "np.max(O)=1.9974451887837763\n",
      "np.max(O)=1.1951632557752871 np.max(NDO)=0.9999999999963202\n",
      "np.max(O)=1.9969070348325175\n",
      "np.max(O)=1.2010273435276464 np.max(NDO)=0.9999999999991028\n",
      "np.max(O)=1.9964507542974124\n",
      "np.max(O)=1.2068578462091426 np.max(NDO)=0.9999999999828099\n",
      "np.max(O)=1.996065061836077\n",
      "np.max(O)=1.2126254778813395 np.max(NDO)=0.9999999999902303\n",
      "np.max(O)=1.9957382756269657\n",
      "np.max(O)=1.2183044722818819 np.max(NDO)=0.999999999999986\n",
      "np.max(O)=1.9954592687486556\n",
      "np.max(O)=1.223873917783055 np.max(NDO)=0.9999999999997219\n",
      "np.max(O)=1.9952185382156484\n",
      "np.max(O)=1.2293182274572536 np.max(NDO)=0.9999999999956249\n",
      "np.max(O)=1.9950089272305451\n",
      "np.max(O)=1.2346269935848158 np.max(NDO)=0.999999999987136\n",
      "np.max(O)=1.9948258020161163\n",
      "np.max(O)=1.2397944733541113 np.max(NDO)=0.9999999999916825\n",
      "np.max(O)=1.9946667381297818\n",
      "np.max(O)=1.2448188929133486 np.max(NDO)=0.9999999999923418\n",
      "np.max(O)=1.9945309072199224\n",
      "np.max(O)=1.2499582703064638 np.max(NDO)=0.9999999999724107\n",
      "np.max(O)=1.9944169463967985\n",
      "np.max(O)=1.255068527197893 np.max(NDO)=0.9999999999910655\n",
      "np.max(O)=1.9943251019634147\n",
      "np.max(O)=1.2600107215785123 np.max(NDO)=0.9999999999927648\n",
      "np.max(O)=1.9942564054283063\n",
      "np.max(O)=1.2647939839988647 np.max(NDO)=0.999999999999563\n",
      "np.max(O)=1.9942113676510407\n",
      "np.max(O)=1.2694287058792089 np.max(NDO)=0.9999999999884455\n",
      "np.max(O)=1.9941898019646862\n",
      "np.max(O)=1.2739256927676939 np.max(NDO)=0.999999999998216\n",
      "np.max(O)=1.9941908649315452\n",
      "np.max(O)=1.2782955229775785 np.max(NDO)=0.9999999999905347\n",
      "np.max(O)=1.9942132352156017\n",
      "np.max(O)=1.2825481116492838 np.max(NDO)=0.9999999999000908\n",
      "np.max(O)=1.9942553500936373\n",
      "np.max(O)=1.2866924581341002 np.max(NDO)=0.9999999999931982\n",
      "np.max(O)=1.9943156304964451\n",
      "np.max(O)=1.2907365374818047 np.max(NDO)=0.9999999999999356\n",
      "np.max(O)=1.9943926465527135\n",
      "np.max(O)=1.294687290083986 np.max(NDO)=0.9999999999993955\n",
      "np.max(O)=1.9944852012009369\n",
      "np.max(O)=1.298550667386419 np.max(NDO)=0.9999999999993486\n",
      "np.max(O)=1.994592333393554\n",
      "np.max(O)=1.302331702534154 np.max(NDO)=0.9999999999996689\n",
      "np.max(O)=1.9947132597097628\n",
      "np.max(O)=1.3060345879076003 np.max(NDO)=0.9999999999984543\n",
      "np.max(O)=1.9948472814594647\n",
      "np.max(O)=1.3096627525636344 np.max(NDO)=0.9999999999973287\n",
      "np.max(O)=1.994993684217106\n",
      "np.max(O)=1.313218939453907 np.max(NDO)=0.9999999999903991\n",
      "np.max(O)=1.9951516508448301\n",
      "np.max(O)=1.316705284876099 np.max(NDO)=0.9999999999951017\n",
      "np.max(O)=1.9953202007405961\n",
      "np.max(O)=1.3201234021662378 np.max(NDO)=0.9999999999993403\n",
      "np.max(O)=1.9954981599959551\n",
      "np.max(O)=1.3234744697764849 np.max(NDO)=0.9999999999902538\n",
      "np.max(O)=1.9956841609606568\n",
      "np.max(O)=1.326759321914897 np.max(NDO)=0.9999999999905351\n",
      "np.max(O)=1.9958766658896274\n",
      "np.max(O)=1.3299785385952356 np.max(NDO)=0.9999999998552209\n",
      "np.max(O)=1.996074007659299\n",
      "np.max(O)=1.3331325314769966 np.max(NDO)=0.9999999999998546\n",
      "np.max(O)=1.9962744404164319\n",
      "np.max(O)=1.3362216221527272 np.max(NDO)=0.9999999999948656\n",
      "np.max(O)=1.9964761938526903\n",
      "np.max(O)=1.3392461103004822 np.max(NDO)=0.9999999999952659\n",
      "np.max(O)=1.9966775260826601\n",
      "np.max(O)=1.3422063300926101 np.max(NDO)=0.9999999999983877\n",
      "np.max(O)=1.9968767714975564\n",
      "np.max(O)=1.3451026942249829 np.max(NDO)=0.9999999999998986\n",
      "np.max(O)=1.9970723812675277\n",
      "np.max(O)=1.3479357257684148 np.max(NDO)=0.9999999999969417\n",
      "np.max(O)=1.9972629552710544\n",
      "np.max(O)=1.3507060786818104 np.max(NDO)=0.999999999993242\n",
      "np.max(O)=1.9974472651055297\n",
      "np.max(O)=1.3534145482518931 np.max(NDO)=0.9999999999991483\n",
      "np.max(O)=1.9976242684820678\n",
      "np.max(O)=1.3560620729570556 np.max(NDO)=0.9999999999996863\n",
      "np.max(O)=1.9977931157529558\n",
      "np.max(O)=1.3586497293291298 np.max(NDO)=0.9999999999988921\n",
      "np.max(O)=1.9979531495937541\n",
      "np.max(O)=1.3611787213479634 np.max(NDO)=0.9999999997917737\n",
      "np.max(O)=1.9981038989978712\n",
      "np.max(O)=1.3636503657885606 np.max(NDO)=0.9999999999769413\n",
      "np.max(O)=1.9982450687722122\n",
      "np.max(O)=1.3660660747820208 np.max(NDO)=0.9999999999660545\n",
      "np.max(O)=1.9983765256777262\n",
      "np.max(O)=1.3684273366748494 np.max(NDO)=0.9999999999999707\n",
      "np.max(O)=1.9984982822635602\n",
      "np.max(O)=1.370735696094066 np.max(NDO)=0.9999999999747524\n",
      "np.max(O)=1.9986104793186155\n",
      "np.max(O)=1.372992733958989 np.max(NDO)=0.9999999999986143\n",
      "np.max(O)=1.9987133677256446\n",
      "np.max(O)=1.3752000480305662 np.max(NDO)=0.9999999999872335\n",
      "np.max(O)=1.9988072903623897\n",
      "np.max(O)=1.3773592344577819 np.max(NDO)=0.9999999999746972\n",
      "np.max(O)=1.9988926645597973\n",
      "np.max(O)=1.3794718706677598 np.max(NDO)=0.9999999999967033\n",
      "np.max(O)=1.9989699655042066\n",
      "np.max(O)=1.3815394998500992 np.max(NDO)=0.999999999990629\n",
      "np.max(O)=1.9990397108614095\n",
      "np.max(O)=1.3835636172045875 np.max(NDO)=0.9999999999948413\n",
      "np.max(O)=1.999102446806735\n",
      "np.max(O)=1.3855456580525498 np.max(NDO)=0.999999999960331\n",
      "W (784, 784) 0.9999985726800659 6.536714225457985e-07 0.47301737557525314\n"
     ]
    }
   ],
   "source": [
    "layer_size = n_mnist_pixels\n",
    "\n",
    "I = np.zeros(n_mnist_pixels)\n",
    "O = np.zeros(layer_size)\n",
    "W = np.random.rand(O.size, I.size)\n",
    "NW = np.random.rand(O.size, I.size)\n",
    "# np.fill_diagonal(NW, 0)\n",
    "print('W', W.shape, W.max(), W.min(), np.median(W))\n",
    "\n",
    "iter_cnt = 100\n",
    "\n",
    "eps0 = 0.01\n",
    "eps = eps0\n",
    "\n",
    "for img in images[:1]:\n",
    "    I = np.copy(img)\n",
    "    print(f'{I.shape=} {I.max()=} {I.min()=} {np.median(I)=}')\n",
    "\n",
    "    # print(img)\n",
    "\n",
    "    T = []\n",
    "    OST = []\n",
    "\n",
    "    for iter_idx in range(iter_cnt):\n",
    "        # eps = (iter_cnt - iter_idx) * eps0\n",
    "\n",
    "        # infer\n",
    "        DO = np.exp((I - W)**2 * -20.0)\n",
    "        np.fill_diagonal(DO, 0)\n",
    "        dO = np.sum(DO, axis=1)\n",
    "        dO /= np.max(dO)\n",
    "        O += dO\n",
    "\n",
    "        # O[np.where(O < 0)] = 0\n",
    "        # O /= np.max(O)\n",
    "        \n",
    "        # O = O ** 2\n",
    "        print(f'{np.max(O)=}')\n",
    "\n",
    "        # inhibition\n",
    "        NDO = np.exp((O - NW)**2 * -20.0)\n",
    "        np.fill_diagonal(NDO, 0)\n",
    "        # NDO = NDO ** 2\n",
    "        dO = np.sum(NDO, axis=1)\n",
    "        dO /= np.max(dO)\n",
    "        O -= dO\n",
    "        # O -= np.sum(NDO, axis=1) * 1.0\n",
    "\n",
    "        O[np.where(O < 0)] = 0\n",
    "        # O /= np.max(O)\n",
    "        print(f'{np.max(O)=} {np.max(NDO)=}')\n",
    "\n",
    "        threshold = np.mean(O)\n",
    "        # threshold = np.mean(O[np.where(O > 0)])\n",
    "\n",
    "        # inh train\n",
    "        dNW = (O - NW) * eps\n",
    "        dNW[np.where(O > threshold)] = 0\n",
    "\n",
    "        # inh update\n",
    "        NW += dNW\n",
    "\n",
    "        # train\n",
    "        dW = (I - W) * eps\n",
    "        dW[np.where(O <= threshold)] = 0\n",
    "\n",
    "        # update\n",
    "        W += dW\n",
    "\n",
    "        # recur\n",
    "        O /= np.max(O)\n",
    "\n",
    "        I = np.copy(O)\n",
    "\n",
    "        # stats\n",
    "        t = np.sum(O > 0)\n",
    "        # t = np.mean(O)\n",
    "        # t = np.sum(O)\n",
    "        T.append(t)\n",
    "\n",
    "        OST.append(np.copy(O))\n",
    "\n",
    "print('W', W.shape, W.max(), W.min(), np.median(W))"
   ]
  },
  {
   "attachments": {},
   "cell_type": "markdown",
   "metadata": {},
   "source": [
    "- TODO: Train and Test."
   ]
  },
  {
   "cell_type": "code",
   "execution_count": 106,
   "metadata": {},
   "outputs": [
    {
     "name": "stdout",
     "output_type": "stream",
     "text": [
      "T[-1]=25\n"
     ]
    },
    {
     "data": {
      "image/png": "[encoded data removed]",
      "text/plain": [
       "<Figure size 5000x500 with 1 Axes>"
      ]
     },
     "metadata": {},
     "output_type": "display_data"
    },
    {
     "data": {
      "image/png": "[encoded data removed]",
      "text/plain": [
       "<Figure size 640x480 with 1 Axes>"
      ]
     },
     "metadata": {},
     "output_type": "display_data"
    }
   ],
   "source": [
    "print(f'{T[-1]=}')\n",
    "simple_plot(T=T)\n",
    "\n",
    "show_image(image=OST, cmap='Greys')"
   ]
  },
  {
   "cell_type": "code",
   "execution_count": 107,
   "metadata": {},
   "outputs": [
    {
     "name": "stdout",
     "output_type": "stream",
     "text": [
      "i_T[-1]=0.056171107409012905\n"
     ]
    },
    {
     "data": {
      "image/png": "[encoded data removed]",
      "text/plain": [
       "<Figure size 5000x500 with 1 Axes>"
      ]
     },
     "metadata": {},
     "output_type": "display_data"
    },
    {
     "data": {
      "image/png": "[encoded data removed]",
      "text/plain": [
       "<Figure size 640x480 with 1 Axes>"
      ]
     },
     "metadata": {},
     "output_type": "display_data"
    }
   ],
   "source": [
    "i_T, i_OST = infer(input=images[1], W=W, iter_cnt=iter_cnt)\n",
    "\n",
    "print(f'{i_T[-1]=}')\n",
    "simple_plot(T=i_T)\n",
    "\n",
    "show_image(image=i_OST, cmap='Greys')"
   ]
  },
  {
   "cell_type": "code",
   "execution_count": 108,
   "metadata": {},
   "outputs": [
    {
     "name": "stdout",
     "output_type": "stream",
     "text": [
      "[[ 0 98 97 ...  2  1  0]\n",
      " [98  0 98 ...  3  2  1]\n",
      " [97 98  0 ...  4  3  2]\n",
      " ...\n",
      " [ 2  3  4 ...  0 98 97]\n",
      " [ 1  2  3 ... 98  0 98]\n",
      " [ 0  1  2 ... 97 98  0]]\n"
     ]
    },
    {
     "data": {
      "image/png": "[encoded data removed]",
      "text/plain": [
       "<Figure size 640x480 with 1 Axes>"
      ]
     },
     "metadata": {},
     "output_type": "display_data"
    }
   ],
   "source": [
    "a = get_discount_matrix(100)\n",
    "2 * a\n",
    "print(a)\n",
    "show_image(a, cmap='Greys')"
   ]
  }
 ],
 "metadata": {
  "kernelspec": {
   "display_name": "Python 3",
   "language": "python",
   "name": "python3"
  },
  "language_info": {
   "codemirror_mode": {
    "name": "ipython",
    "version": 3
   },
   "file_extension": ".py",
   "mimetype": "text/x-python",
   "name": "python",
   "nbconvert_exporter": "python",
   "pygments_lexer": "ipython3",
   "version": "3.10.11"
  },
  "orig_nbformat": 4,
  "vscode": {
   "interpreter": {
    "hash": "aa38ca2d4ac5334f8facb9127846041594939b57ea42b4afe5d7eb655aac64f1"
   }
  }
 },
 "nbformat": 4,
 "nbformat_minor": 2
}
