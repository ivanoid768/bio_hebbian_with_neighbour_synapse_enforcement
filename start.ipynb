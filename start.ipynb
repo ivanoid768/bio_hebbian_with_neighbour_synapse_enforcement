{
 "cells": [
  {
   "cell_type": "code",
   "execution_count": 1,
   "metadata": {},
   "outputs": [
    {
     "name": "stdout",
     "output_type": "stream",
     "text": [
      "[6 1 9 7 9 2 1 9 4 1 1 9 3 5 4 6]\n"
     ]
    }
   ],
   "source": [
    "import numpy as np;\n",
    "\n",
    "a = np.random.randint(1,10,16)\n",
    "print(a)"
   ]
  },
  {
   "attachments": {},
   "cell_type": "markdown",
   "metadata": {},
   "source": [
    "d_syn[j_n] = syn[i_n] * (syn_len / (j_n - i_n)**N )"
   ]
  },
  {
   "cell_type": "code",
   "execution_count": 20,
   "metadata": {},
   "outputs": [
    {
     "name": "stdout",
     "output_type": "stream",
     "text": [
      "[[ 0 15 14 13 12 11 10  9  8  7  6  5  4  3  2  1]\n",
      " [15  0 15 14 13 12 11 10  9  8  7  6  5  4  3  2]\n",
      " [14 15  0 15 14 13 12 11 10  9  8  7  6  5  4  3]\n",
      " [13 14 15  0 15 14 13 12 11 10  9  8  7  6  5  4]\n",
      " [12 13 14 15  0 15 14 13 12 11 10  9  8  7  6  5]\n",
      " [11 12 13 14 15  0 15 14 13 12 11 10  9  8  7  6]\n",
      " [10 11 12 13 14 15  0 15 14 13 12 11 10  9  8  7]\n",
      " [ 9 10 11 12 13 14 15  0 15 14 13 12 11 10  9  8]\n",
      " [ 8  9 10 11 12 13 14 15  0 15 14 13 12 11 10  9]\n",
      " [ 7  8  9 10 11 12 13 14 15  0 15 14 13 12 11 10]\n",
      " [ 6  7  8  9 10 11 12 13 14 15  0 15 14 13 12 11]\n",
      " [ 5  6  7  8  9 10 11 12 13 14 15  0 15 14 13 12]\n",
      " [ 4  5  6  7  8  9 10 11 12 13 14 15  0 15 14 13]\n",
      " [ 3  4  5  6  7  8  9 10 11 12 13 14 15  0 15 14]\n",
      " [ 2  3  4  5  6  7  8  9 10 11 12 13 14 15  0 15]\n",
      " [ 1  2  3  4  5  6  7  8  9 10 11 12 13 14 15  0]]\n"
     ]
    }
   ],
   "source": [
    "a_idx = np.arange(a.size)\n",
    "n = 1\n",
    "a_len = a.size**n - np.abs(a_idx[np.newaxis].T - a_idx)**n\n",
    "np.fill_diagonal(a_len, 0)\n",
    "print(a_len)"
   ]
  },
  {
   "cell_type": "code",
   "execution_count": 26,
   "metadata": {},
   "outputs": [
    {
     "name": "stdout",
     "output_type": "stream",
     "text": [
      "[584 729 664 741 740 865 890 769 838 867 846 695 750 671 630 533] (16,)\n"
     ]
    }
   ],
   "source": [
    "d_a = np.dot(a_len, a)\n",
    "print(d_a, d_a.shape)"
   ]
  },
  {
   "cell_type": "code",
   "execution_count": 27,
   "metadata": {},
   "outputs": [
    {
     "name": "stdout",
     "output_type": "stream",
     "text": [
      "[584 729 664 741 740 865 890 769 838 867 846 695 750 671 630 533] (16,)\n"
     ]
    }
   ],
   "source": [
    "d_a = np.dot(a, a_len)\n",
    "print(d_a, d_a.shape)"
   ]
  },
  {
   "cell_type": "code",
   "execution_count": 30,
   "metadata": {},
   "outputs": [
    {
     "name": "stdout",
     "output_type": "stream",
     "text": [
      "[[  0  15 126  91 108  22  10  81  32   7   6  45  12  15   8   6]\n",
      " [ 90   0 135  98 117  24  11  90  36   8   7  54  15  20  12  12]\n",
      " [ 84  15   0 105 126  26  12  99  40   9   8  63  18  25  16  18]\n",
      " [ 78  14 135   0 135  28  13 108  44  10   9  72  21  30  20  24]\n",
      " [ 72  13 126 105   0  30  14 117  48  11  10  81  24  35  24  30]\n",
      " [ 66  12 117  98 135   0  15 126  52  12  11  90  27  40  28  36]\n",
      " [ 60  11 108  91 126  30   0 135  56  13  12  99  30  45  32  42]\n",
      " [ 54  10  99  84 117  28  15   0  60  14  13 108  33  50  36  48]\n",
      " [ 48   9  90  77 108  26  14 135   0  15  14 117  36  55  40  54]\n",
      " [ 42   8  81  70  99  24  13 126  60   0  15 126  39  60  44  60]\n",
      " [ 36   7  72  63  90  22  12 117  56  15   0 135  42  65  48  66]\n",
      " [ 30   6  63  56  81  20  11 108  52  14  15   0  45  70  52  72]\n",
      " [ 24   5  54  49  72  18  10  99  48  13  14 135   0  75  56  78]\n",
      " [ 18   4  45  42  63  16   9  90  44  12  13 126  45   0  60  84]\n",
      " [ 12   3  36  35  54  14   8  81  40  11  12 117  42  75   0  90]\n",
      " [  6   2  27  28  45  12   7  72  36  10  11 108  39  70  60   0]]\n",
      "[ 720  134 1314 1092 1476  340  174 1584  704  174  170 1476  468  730\n",
      "  536  720]\n"
     ]
    }
   ],
   "source": [
    "a_mul = a * a_len\n",
    "print(a_mul)\n",
    "print(np.sum(a_mul, axis=0))"
   ]
  },
  {
   "cell_type": "code",
   "execution_count": 32,
   "metadata": {},
   "outputs": [
    {
     "name": "stdout",
     "output_type": "stream",
     "text": [
      "[584 729 664 741 740 865 890 769 838 867 846 695 750 671 630 533]\n"
     ]
    }
   ],
   "source": [
    "def get_dW(W, n = 1):\n",
    "    a_idx = np.arange(W.size)\n",
    "    a_len = W.size**n - np.abs(a_idx[np.newaxis].T - a_idx)**n\n",
    "    np.fill_diagonal(a_len, 0)\n",
    "    d_a = np.dot(W, a_len)\n",
    "\n",
    "    return d_a"
   ]
  },
  {
   "cell_type": "code",
   "execution_count": 41,
   "metadata": {},
   "outputs": [
    {
     "name": "stdout",
     "output_type": "stream",
     "text": [
      "[6 1 9 7 9 2 1 9 4 1 1 9 3 5 4 6]\n",
      "[584 729 664 741 740 865 890 769 838 867 846 695 750 671 630 533]\n"
     ]
    }
   ],
   "source": [
    "print(a)\n",
    "dW = get_dW(a)\n",
    "# print(dW / np.linalg.norm(dW))\n",
    "print(dW)"
   ]
  }
 ],
 "metadata": {
  "kernelspec": {
   "display_name": "Python 3",
   "language": "python",
   "name": "python3"
  },
  "language_info": {
   "codemirror_mode": {
    "name": "ipython",
    "version": 3
   },
   "file_extension": ".py",
   "mimetype": "text/x-python",
   "name": "python",
   "nbconvert_exporter": "python",
   "pygments_lexer": "ipython3",
   "version": "3.10.9"
  },
  "orig_nbformat": 4,
  "vscode": {
   "interpreter": {
    "hash": "aa38ca2d4ac5334f8facb9127846041594939b57ea42b4afe5d7eb655aac64f1"
   }
  }
 },
 "nbformat": 4,
 "nbformat_minor": 2
}
