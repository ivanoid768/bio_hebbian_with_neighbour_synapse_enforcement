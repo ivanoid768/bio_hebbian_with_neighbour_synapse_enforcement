{
 "cells": [
  {
   "cell_type": "code",
   "execution_count": 57,
   "metadata": {},
   "outputs": [
    {
     "name": "stdout",
     "output_type": "stream",
     "text": [
      "[2 7 3 4 2 2 3 9 3 8 8 7 4 9 3 2]\n"
     ]
    }
   ],
   "source": [
    "import numpy as np;\n",
    "import pandas as pd\n",
    "import matplotlib.pyplot as plt\n",
    "import seaborn as sns\n",
    "%matplotlib inline\n",
    "\n",
    "a = np.random.randint(1,10,16)\n",
    "print(a)"
   ]
  },
  {
   "attachments": {},
   "cell_type": "markdown",
   "metadata": {},
   "source": [
    "d_syn[j_n] = syn[i_n] * (syn_len / (j_n - i_n)**N )"
   ]
  },
  {
   "cell_type": "code",
   "execution_count": 66,
   "metadata": {},
   "outputs": [
    {
     "name": "stdout",
     "output_type": "stream",
     "text": [
      "[[16 15 14 13 12 11 10  9  8  7  6  5  4  3  2  1]\n",
      " [15 16 15 14 13 12 11 10  9  8  7  6  5  4  3  2]\n",
      " [14 15 16 15 14 13 12 11 10  9  8  7  6  5  4  3]\n",
      " [13 14 15 16 15 14 13 12 11 10  9  8  7  6  5  4]\n",
      " [12 13 14 15 16 15 14 13 12 11 10  9  8  7  6  5]\n",
      " [11 12 13 14 15 16 15 14 13 12 11 10  9  8  7  6]\n",
      " [10 11 12 13 14 15 16 15 14 13 12 11 10  9  8  7]\n",
      " [ 9 10 11 12 13 14 15 16 15 14 13 12 11 10  9  8]\n",
      " [ 8  9 10 11 12 13 14 15 16 15 14 13 12 11 10  9]\n",
      " [ 7  8  9 10 11 12 13 14 15 16 15 14 13 12 11 10]\n",
      " [ 6  7  8  9 10 11 12 13 14 15 16 15 14 13 12 11]\n",
      " [ 5  6  7  8  9 10 11 12 13 14 15 16 15 14 13 12]\n",
      " [ 4  5  6  7  8  9 10 11 12 13 14 15 16 15 14 13]\n",
      " [ 3  4  5  6  7  8  9 10 11 12 13 14 15 16 15 14]\n",
      " [ 2  3  4  5  6  7  8  9 10 11 12 13 14 15 16 15]\n",
      " [ 1  2  3  4  5  6  7  8  9 10 11 12 13 14 15 16]]\n"
     ]
    }
   ],
   "source": [
    "a_idx = np.arange(a.size)\n",
    "n = 1\n",
    "a_len = a.size**n - np.abs(a_idx[np.newaxis].T - a_idx)**n\n",
    "# np.fill_diagonal(a_len, 0)\n",
    "print(a_len)"
   ]
  },
  {
   "cell_type": "code",
   "execution_count": 67,
   "metadata": {},
   "outputs": [
    {
     "name": "stdout",
     "output_type": "stream",
     "text": [
      "[602 674 732 784 828 868 904 934 946 952 942 916 876 828 762 690] (16,)\n"
     ]
    }
   ],
   "source": [
    "d_a = np.dot(a_len, a)\n",
    "print(d_a, d_a.shape)"
   ]
  },
  {
   "cell_type": "code",
   "execution_count": 68,
   "metadata": {},
   "outputs": [
    {
     "name": "stdout",
     "output_type": "stream",
     "text": [
      "[602 674 732 784 828 868 904 934 946 952 942 916 876 828 762 690] (16,)\n"
     ]
    }
   ],
   "source": [
    "d_a = np.dot(a, a_len)\n",
    "print(d_a, d_a.shape)"
   ]
  },
  {
   "cell_type": "code",
   "execution_count": 69,
   "metadata": {},
   "outputs": [
    {
     "name": "stdout",
     "output_type": "stream",
     "text": [
      "[2 7 3 4 2 2 3 9 3 8 8 7 4 9 3 2]\n",
      "[602 674 732 784 828 868 904 934 946 952 942 916 876 828 762 690]\n"
     ]
    },
    {
     "data": {
      "text/plain": [
       "<AxesSubplot: ylabel='0'>"
      ]
     },
     "execution_count": 69,
     "metadata": {},
     "output_type": "execute_result"
    },
    {
     "data": {
      "image/png": "[encoded data removed]",
      "text/plain": [
       "<Figure size 640x480 with 1 Axes>"
      ]
     },
     "metadata": {},
     "output_type": "display_data"
    }
   ],
   "source": [
    "print(a)\n",
    "print(d_a)\n",
    "\n",
    "# sns.barplot(x=np.arange(a.size), y=a, color='red')\n",
    "# my_array = np.array([np.arange(a.size), a, d_a]).T\n",
    "# print(my_array)\n",
    "# df = pd.DataFrame(my_array, columns = ['A','B','C'])\n",
    "# sns.barplot(data=df, x='A', y='C', hue='A', palette=['blue', 'red'])\n",
    "ds1 = pd.DataFrame(a/np.max(a))\n",
    "ds2 = pd.DataFrame(d_a/np.max(d_a))\n",
    "ds1['ds'] = 'a'\n",
    "ds2['ds'] = 'd_a'\n",
    "dss = pd.concat([ds1, ds2])\n",
    "sns.barplot(x=dss.index, y=dss[0], hue='ds', data=dss)"
   ]
  },
  {
   "cell_type": "code",
   "execution_count": 70,
   "metadata": {},
   "outputs": [
    {
     "name": "stdout",
     "output_type": "stream",
     "text": [
      "[[ 32 105  42  52  24  22  30  81  24  56  48  35  16  27   6   2]\n",
      " [ 30 112  45  56  26  24  33  90  27  64  56  42  20  36   9   4]\n",
      " [ 28 105  48  60  28  26  36  99  30  72  64  49  24  45  12   6]\n",
      " [ 26  98  45  64  30  28  39 108  33  80  72  56  28  54  15   8]\n",
      " [ 24  91  42  60  32  30  42 117  36  88  80  63  32  63  18  10]\n",
      " [ 22  84  39  56  30  32  45 126  39  96  88  70  36  72  21  12]\n",
      " [ 20  77  36  52  28  30  48 135  42 104  96  77  40  81  24  14]\n",
      " [ 18  70  33  48  26  28  45 144  45 112 104  84  44  90  27  16]\n",
      " [ 16  63  30  44  24  26  42 135  48 120 112  91  48  99  30  18]\n",
      " [ 14  56  27  40  22  24  39 126  45 128 120  98  52 108  33  20]\n",
      " [ 12  49  24  36  20  22  36 117  42 120 128 105  56 117  36  22]\n",
      " [ 10  42  21  32  18  20  33 108  39 112 120 112  60 126  39  24]\n",
      " [  8  35  18  28  16  18  30  99  36 104 112 105  64 135  42  26]\n",
      " [  6  28  15  24  14  16  27  90  33  96 104  98  60 144  45  28]\n",
      " [  4  21  12  20  12  14  24  81  30  88  96  91  56 135  48  30]\n",
      " [  2  14   9  16  10  12  21  72  27  80  88  84  52 126  45  32]]\n"
     ]
    },
    {
     "data": {
      "text/plain": [
       "<AxesSubplot: ylabel='0'>"
      ]
     },
     "execution_count": 70,
     "metadata": {},
     "output_type": "execute_result"
    },
    {
     "data": {
      "image/png": "[encoded data removed]",
      "text/plain": [
       "<Figure size 640x480 with 1 Axes>"
      ]
     },
     "metadata": {},
     "output_type": "display_data"
    }
   ],
   "source": [
    "a_mul = a * a_len\n",
    "print(a_mul)\n",
    "d_a = np.sum(a_mul, axis=0)\n",
    "ds1 = pd.DataFrame(a/np.max(a))\n",
    "ds2 = pd.DataFrame(d_a/np.max(d_a))\n",
    "ds1['ds'] = 'a'\n",
    "ds2['ds'] = 'd_a'\n",
    "dss = pd.concat([ds1, ds2])\n",
    "sns.barplot(x=dss.index, y=dss[0], hue='ds', data=dss)"
   ]
  },
  {
   "cell_type": "code",
   "execution_count": 71,
   "metadata": {},
   "outputs": [],
   "source": [
    "def get_dW(W, n = 1):\n",
    "    a_idx = np.arange(W.size)\n",
    "    a_len = W.size**n - np.abs(a_idx[np.newaxis].T - a_idx)**n\n",
    "    np.fill_diagonal(a_len, 0)\n",
    "    d_a = np.dot(W, a_len)\n",
    "\n",
    "    return d_a"
   ]
  },
  {
   "cell_type": "code",
   "execution_count": 72,
   "metadata": {},
   "outputs": [
    {
     "name": "stdout",
     "output_type": "stream",
     "text": [
      "[2 7 3 4 2 2 3 9 3 8 8 7 4 9 3 2]\n",
      "[570 562 684 720 796 836 856 790 898 824 814 804 812 684 714 658]\n"
     ]
    }
   ],
   "source": [
    "print(a)\n",
    "dW = get_dW(a)\n",
    "# print(dW / np.linalg.norm(dW))\n",
    "print(dW)"
   ]
  }
 ],
 "metadata": {
  "kernelspec": {
   "display_name": "Python 3",
   "language": "python",
   "name": "python3"
  },
  "language_info": {
   "codemirror_mode": {
    "name": "ipython",
    "version": 3
   },
   "file_extension": ".py",
   "mimetype": "text/x-python",
   "name": "python",
   "nbconvert_exporter": "python",
   "pygments_lexer": "ipython3",
   "version": "3.10.9"
  },
  "orig_nbformat": 4,
  "vscode": {
   "interpreter": {
    "hash": "aa38ca2d4ac5334f8facb9127846041594939b57ea42b4afe5d7eb655aac64f1"
   }
  }
 },
 "nbformat": 4,
 "nbformat_minor": 2
}
