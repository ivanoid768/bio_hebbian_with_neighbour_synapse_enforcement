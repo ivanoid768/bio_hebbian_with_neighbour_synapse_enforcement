{
 "cells": [
  {
   "cell_type": "code",
   "execution_count": 1,
   "metadata": {},
   "outputs": [],
   "source": [
    "from mnist import MNIST \n",
    "import numpy as np\n",
    "from pylab import *\n",
    "from matplotlib import colors\n",
    "%matplotlib inline\n",
    "\n",
    "mndata = MNIST('./data')\n",
    "\n",
    "mndata.load_training()\n",
    "img_side = 28\n",
    "n_mnist_pixels = img_side*img_side"
   ]
  },
  {
   "cell_type": "code",
   "execution_count": 2,
   "metadata": {},
   "outputs": [
    {
     "data": {
      "text/plain": [
       "100"
      ]
     },
     "execution_count": 2,
     "metadata": {},
     "output_type": "execute_result"
    }
   ],
   "source": [
    "labels = mndata.train_labels\n",
    "\n",
    "cluster_size = 10\n",
    "train_inputs_idx = []\n",
    "for idx in range(10):\n",
    "    label_idx = np.where(np.isin(labels,[idx]))[0][:cluster_size]\n",
    "    train_inputs_idx.append(label_idx)\n",
    "\n",
    "samples_idx = np.array(train_inputs_idx, dtype='int').flatten()\n",
    "samples_idx.size"
   ]
  },
  {
   "cell_type": "code",
   "execution_count": 16,
   "metadata": {},
   "outputs": [
    {
     "name": "stdout",
     "output_type": "stream",
     "text": [
      "W (40, 784) 0.0009999914262381344 2.5373637000059014e-08 0.000497844159341851\n",
      "S (40, 784) 1.0 1.0 1.0\n",
      "W (40, 784) 0.7628284325593756 -1.5695493321041106e-12 2.9103602503054276e-05\n",
      "S (40, 784) 1.0 -0.026071219698957673 -0.007289803306731269\n"
     ]
    }
   ],
   "source": [
    "layer_size = 10*4\n",
    "c = 4\n",
    "\n",
    "I = np.zeros(n_mnist_pixels)\n",
    "O = np.zeros(layer_size)\n",
    "W = np.random.rand(O.size, I.size) * 0.001\n",
    "S = np.ones((O.size, I.size))\n",
    "print('W', W.shape, W.max(), W.min(), np.median(W))\n",
    "print('S', S.shape, S.max(), S.min(), np.median(S))\n",
    "\n",
    "push_delta = 0.4\n",
    "k = 1\n",
    "\n",
    "prec = 1e-30\n",
    "\n",
    "epoch_cnt = 100\n",
    "eps0 = 0.02\n",
    "\n",
    "lr = 0.085\n",
    "\n",
    "tr_S = 0.1\n",
    "dec_S = 0.01\n",
    "inc_S = 0.05\n",
    "\n",
    "for epoch_idx in range(epoch_cnt):\n",
    "    eps = (epoch_cnt - epoch_idx) * eps0\n",
    "\n",
    "    for i_idx in samples_idx:\n",
    "        img = mndata.train_images[i_idx]\n",
    "\n",
    "        # infer\n",
    "        I = np.array(img) / 255\n",
    "        # DO = 1 / np.exp(np.abs(I*c - W)**2)\n",
    "        # DO = 1 - np.abs(I*2 - W)\n",
    "        DO = np.exp((W - I)**2 * -20.0)\n",
    "        SO = DO * S\n",
    "        O = np.sum(SO, axis=1)\n",
    "        # print('O', O.shape, O.max(), O.min(), np.median(O))\n",
    "\n",
    "        # train\n",
    "        # dW = (I - W) * O[np.newaxis].T\n",
    "        # dW = np.sign(I * c - W) * (1 - DO) * O[np.newaxis].T\n",
    "        # dW = (I - (W/c)) * 1e-2 * O[np.newaxis].T\n",
    "        # print('dW', dW.shape, dW.max(), dW.min(), np.median(dW))\n",
    "\n",
    "        winner_ids = np.argsort(O)[::-1]\n",
    "\n",
    "        D = np.zeros(O.shape)\n",
    "        D[winner_ids[0]] = 1\n",
    "        D[winner_ids[1:1+k]] += -push_delta\n",
    "        D = D[np.newaxis].T\n",
    "\n",
    "        # train S\n",
    "        dS = np.zeros(S.shape)\n",
    "        dS[np.where(DO < tr_S)] = -dec_S\n",
    "        dS[np.where(DO >= tr_S)] = inc_S\n",
    "\n",
    "        # update S\n",
    "        dS *= D\n",
    "        S += dS\n",
    "        # norm S\n",
    "        S /= np.max(np.abs(S))\n",
    "\n",
    "        # update\n",
    "        # dW_nc = np.abs(np.max(dW))\n",
    "        # if dW_nc < prec:\n",
    "        #     dW_nc = prec\n",
    "        # dW = dW / np.abs(np.max(dW))\n",
    "        # ws[:, winner] * (1 - lr) + x * lr\n",
    "        O /= np.max(np.abs(O))\n",
    "        O = O[np.newaxis].T\n",
    "        update_ids = winner_ids[:1+k]\n",
    "        # print(update_ids, W[update_ids].shape, I[update_ids].shape, dW[update_ids].shape)\n",
    "        W[update_ids] = W[update_ids] * (1 - lr) + (I * lr * D[update_ids] * O[update_ids])\n",
    "\n",
    "print('W', W.shape, W.max(), W.min(), np.median(W))\n",
    "print('S', S.shape, S.max(), S.min(), np.median(S))\n"
   ]
  },
  {
   "cell_type": "code",
   "execution_count": 17,
   "metadata": {},
   "outputs": [
    {
     "data": {
      "image/png": "[encoded data removed]",
      "text/plain": [
       "<Figure size 1000x400 with 40 Axes>"
      ]
     },
     "metadata": {},
     "output_type": "display_data"
    }
   ],
   "source": [
    "row_size = 10\n",
    "col_size = int(layer_size / row_size)\n",
    "\n",
    "figure(figsize=(row_size, col_size))\n",
    "\n",
    "for col_idx in range(col_size):\n",
    "    for row_idx in range(row_size):\n",
    "        n_W_idx = col_idx * row_size + row_idx\n",
    "\n",
    "        aimg = W[n_W_idx].reshape(img_side, img_side)\n",
    "\n",
    "        subplot(col_size, row_size, n_W_idx + 1)\n",
    "\n",
    "        imshow(aimg, interpolation='none', aspect='auto', cmap='bone')\n",
    "        axis(\"off\")\n",
    "\n",
    "show()\n"
   ]
  }
 ],
 "metadata": {
  "kernelspec": {
   "display_name": "Python 3",
   "language": "python",
   "name": "python3"
  },
  "language_info": {
   "codemirror_mode": {
    "name": "ipython",
    "version": 3
   },
   "file_extension": ".py",
   "mimetype": "text/x-python",
   "name": "python",
   "nbconvert_exporter": "python",
   "pygments_lexer": "ipython3",
   "version": "3.10.9"
  },
  "orig_nbformat": 4,
  "vscode": {
   "interpreter": {
    "hash": "aa38ca2d4ac5334f8facb9127846041594939b57ea42b4afe5d7eb655aac64f1"
   }
  }
 },
 "nbformat": 4,
 "nbformat_minor": 2
}
