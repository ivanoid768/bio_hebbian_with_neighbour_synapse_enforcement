{
 "cells": [
  {
   "cell_type": "code",
   "execution_count": 23,
   "metadata": {},
   "outputs": [],
   "source": [
    "from mnist import MNIST \n",
    "\n",
    "mndata = MNIST('./data')\n",
    "\n",
    "mndata.load_training()\n",
    "img_side = 28\n",
    "n_mnist_pixels = img_side*img_side"
   ]
  },
  {
   "cell_type": "code",
   "execution_count": 50,
   "metadata": {},
   "outputs": [],
   "source": [
    "import numpy as np\n",
    "\n",
    "layer_size = 10\n",
    "\n",
    "I = np.zeros(n_mnist_pixels)\n",
    "O = np.zeros(layer_size)\n",
    "W = np.random.rand(O.size, I.size) * 0.001"
   ]
  },
  {
   "cell_type": "code",
   "execution_count": 51,
   "metadata": {},
   "outputs": [],
   "source": [
    "push_delta = 0.4\n",
    "k = 1"
   ]
  },
  {
   "cell_type": "code",
   "execution_count": 61,
   "metadata": {},
   "outputs": [
    {
     "data": {
      "text/plain": [
       "(10, 784)"
      ]
     },
     "execution_count": 61,
     "metadata": {},
     "output_type": "execute_result"
    }
   ],
   "source": [
    "num_samples = 1\n",
    "i_idx = 10\n",
    "\n",
    "img = mndata.train_images[i_idx]\n",
    "\n",
    "# infer\n",
    "I = np.array(img) / 255\n",
    "O = np.dot(W, I)\n",
    "\n",
    "# train\n",
    "dW = I - (W * O[np.newaxis].T)\n",
    "wO = np.argsort(O)[::-1]\n",
    "O.fill(0)\n",
    "O[wO[0]] = 1\n",
    "O[wO[1:1+k]] = -push_delta\n",
    "dW *= O[np.newaxis].T\n",
    "W.shape"
   ]
  },
  {
   "cell_type": "code",
   "execution_count": 89,
   "metadata": {},
   "outputs": [
    {
     "name": "stdout",
     "output_type": "stream",
     "text": [
      "(1, 784, 784)\n",
      "(10, 784)\n"
     ]
    },
    {
     "data": {
      "text/plain": [
       "(10, 784)"
      ]
     },
     "execution_count": 89,
     "metadata": {},
     "output_type": "execute_result"
    }
   ],
   "source": [
    "syn_n = 1\n",
    "\n",
    "syn_size = W.shape[1]\n",
    "W_idx = np.arange(syn_size)\n",
    "W_idx.shape\n",
    "W_len = syn_size**syn_n - np.abs(W_idx[np.newaxis].T - W_idx)**syn_n\n",
    "np.fill_diagonal(W_len, 0)\n",
    "W_len = W_len[np.newaxis]\n",
    "print(W_len.shape)\n",
    "print(W.shape) \n",
    "# (W.T * W_len.T).T.shape\n",
    "# (W.T.shape, W_len.T.shape)\n",
    "\n",
    "np.dot(W, W_len).reshape(W.shape[0], W.shape[1]).shape\n",
    "# np.dot(W, W_len)\n",
    "\n",
    "# np.fill_diagonal(a_len, 0)\n",
    "# d_a = np.dot(W, a_len)"
   ]
  }
 ],
 "metadata": {
  "kernelspec": {
   "display_name": "Python 3",
   "language": "python",
   "name": "python3"
  },
  "language_info": {
   "codemirror_mode": {
    "name": "ipython",
    "version": 3
   },
   "file_extension": ".py",
   "mimetype": "text/x-python",
   "name": "python",
   "nbconvert_exporter": "python",
   "pygments_lexer": "ipython3",
   "version": "3.10.9"
  },
  "orig_nbformat": 4,
  "vscode": {
   "interpreter": {
    "hash": "aa38ca2d4ac5334f8facb9127846041594939b57ea42b4afe5d7eb655aac64f1"
   }
  }
 },
 "nbformat": 4,
 "nbformat_minor": 2
}
