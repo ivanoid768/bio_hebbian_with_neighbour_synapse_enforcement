{
 "cells": [
  {
   "cell_type": "code",
   "execution_count": 77,
   "metadata": {},
   "outputs": [],
   "source": [
    "from mnist import MNIST \n",
    "import numpy as np\n",
    "\n",
    "mndata = MNIST('./data')\n",
    "\n",
    "mndata.load_training()\n",
    "img_side = 28\n",
    "n_mnist_pixels = img_side*img_side"
   ]
  },
  {
   "cell_type": "code",
   "execution_count": 78,
   "metadata": {},
   "outputs": [],
   "source": [
    "labels = mndata.train_labels\n",
    "# np.where(np.isin(labels,[2]))[0][0]\n",
    "# np.where(labels == 1)\n",
    "train_inputs_idx = []\n",
    "for idx in range(10):\n",
    "    label_idx = np.where(np.isin(labels,[idx]))[0][0]\n",
    "    train_inputs_idx.append(label_idx)\n",
    "\n",
    "samples_idx = np.array(train_inputs_idx, dtype='int')"
   ]
  },
  {
   "cell_type": "code",
   "execution_count": 175,
   "metadata": {},
   "outputs": [
    {
     "name": "stdout",
     "output_type": "stream",
     "text": [
      "W (40, 784) 0.000999990719374806 1.3433269923313063e-08\n"
     ]
    }
   ],
   "source": [
    "layer_size = 10*4\n",
    "\n",
    "I = np.zeros(n_mnist_pixels)\n",
    "O = np.zeros(layer_size)\n",
    "W = np.random.rand(O.size, I.size) * 0.001\n",
    "print('W', W.shape, W.max(), W.min())"
   ]
  },
  {
   "cell_type": "code",
   "execution_count": 176,
   "metadata": {},
   "outputs": [],
   "source": [
    "push_delta = 0.4\n",
    "k = 1"
   ]
  },
  {
   "cell_type": "code",
   "execution_count": 177,
   "metadata": {},
   "outputs": [],
   "source": [
    "syn_n = 1.5\n",
    "syn_size = W.shape[1]\n",
    "W_idx = np.arange(syn_size)\n",
    "W_len = np.abs(W_idx[np.newaxis].T - W_idx)\n",
    "W_len = (np.array(W_len, dtype='float') + 1) ** -syn_n\n",
    "\n",
    "epoch_cnt = 100\n",
    "# i_idx = 10\n",
    "eps0 = 0.02\n",
    "\n",
    "for epoch_idx in range(epoch_cnt):\n",
    "    eps = (epoch_cnt - epoch_idx) * eps0\n",
    "\n",
    "    for i_idx in samples_idx:\n",
    "        img = mndata.train_images[i_idx]\n",
    "\n",
    "        # infer\n",
    "        I = np.array(img) / 255\n",
    "        O = np.dot(W, I)\n",
    "\n",
    "        # train\n",
    "        dW = I - (W * O[np.newaxis].T)\n",
    "        wO = np.argsort(O)[::-1]\n",
    "        O.fill(0)\n",
    "        O[wO[0]] = 1\n",
    "        O[wO[1:1+k]] = -push_delta\n",
    "        dW *= O[np.newaxis].T\n",
    "        dW *= eps\n",
    "\n",
    "\n",
    "        dLNR = np.dot(W, W_len)\n",
    "        # dLNR = dLNR / np.abs(np.max(dLNR))\n",
    "        dW *= dLNR\n",
    "\n",
    "        # update\n",
    "        dW = dW / np.abs(np.max(dW))\n",
    "        # print('W', W.shape, W.max(), W.min())\n",
    "        # dLNR = np.dot(W, W_len)\n",
    "        # dLNR = dLNR / np.abs(np.max(dLNR))\n",
    "        # dLNR -= np.min(dLNR)\n",
    "        # dW *= dLNR\n",
    "# \n",
    "        W += dW\n",
    "\n",
    "        # local synapse reinforcement\n",
    "        # print('W', W.shape, W.max(), W.min())\n",
    "        # print('W_len', W_len.shape, W_len.max(), W_len.min())\n",
    "         #.reshape(W.shape[0], W.shape[1])\n",
    "        # print('dLNR', dLNR.shape, dLNR.max(), dLNR.min())\n",
    "        \n",
    "        \n",
    "\n"
   ]
  },
  {
   "cell_type": "code",
   "execution_count": 178,
   "metadata": {},
   "outputs": [
    {
     "data": {
      "image/png": "[encoded data removed]",
      "text/plain": [
       "<Figure size 1000x400 with 40 Axes>"
      ]
     },
     "metadata": {},
     "output_type": "display_data"
    }
   ],
   "source": [
    "from pylab import *\n",
    "%matplotlib inline\n",
    "row_size = 10\n",
    "col_size = int(layer_size / row_size)\n",
    "\n",
    "figure(figsize=(row_size, col_size))\n",
    "\n",
    "for col_idx in range(col_size):\n",
    "    for row_idx in range(row_size):\n",
    "        n_W_idx = col_idx * row_size + row_idx\n",
    "\n",
    "        aimg = W[n_W_idx].reshape(img_side, img_side)\n",
    "\n",
    "        subplot(col_size, row_size, n_W_idx + 1)\n",
    "\n",
    "        imshow(aimg, interpolation='none', aspect='auto', cmap='bone')\n",
    "        axis(\"off\")\n",
    "\n",
    "show()\n"
   ]
  }
 ],
 "metadata": {
  "kernelspec": {
   "display_name": "Python 3",
   "language": "python",
   "name": "python3"
  },
  "language_info": {
   "codemirror_mode": {
    "name": "ipython",
    "version": 3
   },
   "file_extension": ".py",
   "mimetype": "text/x-python",
   "name": "python",
   "nbconvert_exporter": "python",
   "pygments_lexer": "ipython3",
   "version": "3.10.9"
  },
  "orig_nbformat": 4,
  "vscode": {
   "interpreter": {
    "hash": "aa38ca2d4ac5334f8facb9127846041594939b57ea42b4afe5d7eb655aac64f1"
   }
  }
 },
 "nbformat": 4,
 "nbformat_minor": 2
}
