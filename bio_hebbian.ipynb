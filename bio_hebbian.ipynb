{
 "cells": [
  {
   "cell_type": "code",
   "execution_count": 222,
   "metadata": {},
   "outputs": [],
   "source": [
    "from mnist import MNIST \n",
    "\n",
    "mndata = MNIST('./data')\n",
    "\n",
    "mndata.load_training()\n",
    "img_side = 28\n",
    "n_mnist_pixels = img_side*img_side"
   ]
  },
  {
   "cell_type": "code",
   "execution_count": 231,
   "metadata": {},
   "outputs": [],
   "source": [
    "import numpy as np\n",
    "\n",
    "layer_size = 1024\n",
    "\n",
    "I = np.zeros(n_mnist_pixels)\n",
    "O = np.zeros(layer_size)\n",
    "W = np.random.rand(O.size, I.size) * 0.001"
   ]
  },
  {
   "cell_type": "code",
   "execution_count": 232,
   "metadata": {},
   "outputs": [],
   "source": [
    "push_delta = 0.4\n",
    "k = 1"
   ]
  },
  {
   "cell_type": "code",
   "execution_count": 233,
   "metadata": {},
   "outputs": [
    {
     "data": {
      "text/plain": [
       "(1024, 784)"
      ]
     },
     "execution_count": 233,
     "metadata": {},
     "output_type": "execute_result"
    }
   ],
   "source": [
    "num_samples = 1\n",
    "i_idx = 10\n",
    "\n",
    "img = mndata.train_images[i_idx]\n",
    "\n",
    "# infer\n",
    "I = np.array(img) / 255\n",
    "O = np.dot(W, I)\n",
    "\n",
    "# train\n",
    "dW = I - (W * O[np.newaxis].T)\n",
    "wO = np.argsort(O)[::-1]\n",
    "O.fill(0)\n",
    "O[wO[0]] = 1\n",
    "O[wO[1:1+k]] = -push_delta\n",
    "dW *= O[np.newaxis].T\n",
    "W.shape"
   ]
  },
  {
   "cell_type": "code",
   "execution_count": 234,
   "metadata": {},
   "outputs": [
    {
     "name": "stdout",
     "output_type": "stream",
     "text": [
      "(1, 784, 784)\n",
      "(1024, 784)\n",
      "(784, 1024) (784, 784, 1) (784, 784, 1024) (1024, 784, 784)\n",
      "(784, 1024) (784, 784, 1)\n",
      "(1024, 1, 784) (1024, 784)\n"
     ]
    }
   ],
   "source": [
    "syn_n = 1.5\n",
    "\n",
    "syn_size = W.shape[1]\n",
    "W_idx = np.arange(syn_size)\n",
    "W_idx.shape\n",
    "W_len = np.abs(W_idx[np.newaxis].T - W_idx)\n",
    "W_len = (np.array(W_len, dtype='float') + 1) ** -syn_n\n",
    "\n",
    "W_len_1 = np.copy(W_len)\n",
    "W_len_1 = np.expand_dims(W_len_1, axis=0)\n",
    "print(W_len_1.shape)\n",
    "print(W.shape)\n",
    "print(W.T.shape, W_len[np.newaxis].T.shape, (W.T * W_len[np.newaxis].T).shape, (W.T * W_len[np.newaxis].T).T.shape)\n",
    "res_sum =  np.sum((W.T * W_len[np.newaxis].T).T, axis=1)\n",
    "\n",
    "# (W.T.shape, W_len.T.shape)\n",
    "\n",
    "# W_2 = np.expand_dims(W, axis=1)\n",
    "# print(W_2.shape, W_len_1.shape)\n",
    "print(W.T.shape, W_len_1.T.shape)\n",
    "res_1 = np.tensordot(W, W_len_1, axes=(1,1)) #.reshape(W.shape[0], W.shape[1])\n",
    "\n",
    "print(res_1.shape, res_sum.shape)\n",
    "# print(res_sum[0] - res_1[0][0])\n",
    "# print(res_1[0][0][1])\n",
    "# np.dot(W, W_len)\n",
    "\n",
    "# np.fill_diagonal(a_len, 0)\n",
    "# d_a = np.dot(W, a_len)"
   ]
  },
  {
   "cell_type": "code",
   "execution_count": 235,
   "metadata": {},
   "outputs": [
    {
     "data": {
      "text/plain": [
       "-1.1498413332589053e-11"
      ]
     },
     "execution_count": 235,
     "metadata": {},
     "output_type": "execute_result"
    }
   ],
   "source": [
    "W_len_2 = np.copy(W_len)\n",
    "\n",
    "dW_2 = np.zeros(W.shape)\n",
    "for n_idx in range(W.shape[0]):\n",
    "    dW_2[n_idx] = np.dot(W[n_idx], W_len_2)\n",
    "np.sum(dW_2 - res_1)\n"
   ]
  },
  {
   "cell_type": "code",
   "execution_count": 239,
   "metadata": {},
   "outputs": [],
   "source": [
    "r = np.sum((W.T * W_len[np.newaxis].T).T, axis=1)"
   ]
  },
  {
   "cell_type": "code",
   "execution_count": 311,
   "metadata": {},
   "outputs": [],
   "source": [
    "for n_idx in range(W.shape[0]):\n",
    "    dW_2[n_idx] = np.dot(W[n_idx], W_len_2)"
   ]
  },
  {
   "cell_type": "code",
   "execution_count": 312,
   "metadata": {},
   "outputs": [],
   "source": [
    "res_dot = np.dot(W, W_len).reshape(W.shape[0],W.shape[1])"
   ]
  },
  {
   "cell_type": "code",
   "execution_count": 313,
   "metadata": {},
   "outputs": [
    {
     "data": {
      "text/plain": [
       "9.705861331657517e-13"
      ]
     },
     "execution_count": 313,
     "metadata": {},
     "output_type": "execute_result"
    }
   ],
   "source": [
    "np.abs(dW_2 - res_dot).sum()"
   ]
  },
  {
   "cell_type": "code",
   "execution_count": 314,
   "metadata": {},
   "outputs": [],
   "source": [
    "res_tdot = np.tensordot(W, W_len, axes=(1,1)).reshape(W.shape[0],W.shape[1])"
   ]
  },
  {
   "cell_type": "code",
   "execution_count": 315,
   "metadata": {},
   "outputs": [
    {
     "data": {
      "text/plain": [
       "9.705861331657517e-13"
      ]
     },
     "execution_count": 315,
     "metadata": {},
     "output_type": "execute_result"
    }
   ],
   "source": [
    "np.abs(dW_2 - res_tdot).sum()"
   ]
  }
 ],
 "metadata": {
  "kernelspec": {
   "display_name": "Python 3",
   "language": "python",
   "name": "python3"
  },
  "language_info": {
   "codemirror_mode": {
    "name": "ipython",
    "version": 3
   },
   "file_extension": ".py",
   "mimetype": "text/x-python",
   "name": "python",
   "nbconvert_exporter": "python",
   "pygments_lexer": "ipython3",
   "version": "3.10.9"
  },
  "orig_nbformat": 4,
  "vscode": {
   "interpreter": {
    "hash": "aa38ca2d4ac5334f8facb9127846041594939b57ea42b4afe5d7eb655aac64f1"
   }
  }
 },
 "nbformat": 4,
 "nbformat_minor": 2
}
