{
 "cells": [
  {
   "cell_type": "code",
   "execution_count": 77,
   "metadata": {},
   "outputs": [],
   "source": [
    "from mnist import MNIST \n",
    "import numpy as np\n",
    "\n",
    "mndata = MNIST('./data')\n",
    "\n",
    "mndata.load_training()\n",
    "img_side = 28\n",
    "n_mnist_pixels = img_side*img_side"
   ]
  },
  {
   "cell_type": "code",
   "execution_count": 78,
   "metadata": {},
   "outputs": [],
   "source": [
    "labels = mndata.train_labels\n",
    "# np.where(np.isin(labels,[2]))[0][0]\n",
    "# np.where(labels == 1)\n",
    "train_inputs_idx = []\n",
    "for idx in range(10):\n",
    "    label_idx = np.where(np.isin(labels,[idx]))[0][0]\n",
    "    train_inputs_idx.append(label_idx)\n",
    "\n",
    "samples_idx = np.array(train_inputs_idx, dtype='int')"
   ]
  },
  {
   "cell_type": "code",
   "execution_count": 314,
   "metadata": {},
   "outputs": [
    {
     "name": "stdout",
     "output_type": "stream",
     "text": [
      "W (40, 784) 0.0009999939526714094 1.1785183714252413e-08\n",
      "31360 15680 1.0\n"
     ]
    }
   ],
   "source": [
    "layer_size = 10*4\n",
    "\n",
    "I = np.zeros(n_mnist_pixels)\n",
    "O = np.zeros(layer_size)\n",
    "W = np.random.rand(O.size, I.size) * 0.001\n",
    "print('W', W.shape, W.max(), W.min())\n",
    "\n",
    "push_delta = 0.4\n",
    "k = 1\n",
    "\n",
    "syn_n = 1.5\n",
    "syn_size = W.shape[1]\n",
    "W_idx = np.arange(syn_size)\n",
    "W_len = np.abs(W_idx[np.newaxis].T - W_idx)\n",
    "W_len = (np.array(W_len, dtype='float') + 1) ** -syn_n\n",
    "\n",
    "epoch_cnt = 100\n",
    "# i_idx = 10\n",
    "eps0 = 0.02\n",
    "\n",
    "for epoch_idx in range(epoch_cnt):\n",
    "    eps = (epoch_cnt - epoch_idx) * eps0\n",
    "\n",
    "    for i_idx in samples_idx:\n",
    "        img = mndata.train_images[i_idx]\n",
    "\n",
    "        # infer\n",
    "        I = np.array(img) / 255\n",
    "        O = np.dot(W, I)\n",
    "\n",
    "        # train\n",
    "        dW = I - (W * O[np.newaxis].T)\n",
    "        wO = np.argsort(O)[::-1]\n",
    "        O.fill(0)\n",
    "        O[wO[0]] = 1\n",
    "        O[wO[1:1+k]] = -push_delta\n",
    "        dW *= O[np.newaxis].T\n",
    "        dW *= eps\n",
    "\n",
    "        # local synapse reinforcement\n",
    "        dLNR = np.dot(W, W_len)\n",
    "        # dLNR = dLNR / np.abs(np.max(dLNR))\n",
    "        # dLNR -= np.min(dLNR)\n",
    "        dLNR *= eps\n",
    "        dW *= dLNR\n",
    "\n",
    "        # update\n",
    "        dW = dW / np.abs(np.max(dW))\n",
    "        W += dW\n",
    "\n",
    "    # remove weak synapses\n",
    "    # for nW in W:\n",
    "    #     nW[np.where(np.abs(nW) < 1.0 * np.median(np.abs(nW)))] = 0\n",
    "    WTr_coef = 1.0\n",
    "    WTr = WTr_coef * np.median(np.abs(W), axis=1)\n",
    "    W[np.where(np.abs(W) < WTr[np.newaxis].T)] = 0\n",
    "\n",
    "print(W.size, np.sum(W == 0), np.sum(W != 0) / np.sum(W == 0))\n"
   ]
  },
  {
   "cell_type": "code",
   "execution_count": 315,
   "metadata": {},
   "outputs": [
    {
     "data": {
      "image/png": "[encoded data removed]",
      "text/plain": [
       "<Figure size 1000x400 with 40 Axes>"
      ]
     },
     "metadata": {},
     "output_type": "display_data"
    }
   ],
   "source": [
    "from pylab import *\n",
    "%matplotlib inline\n",
    "row_size = 10\n",
    "col_size = int(layer_size / row_size)\n",
    "\n",
    "figure(figsize=(row_size, col_size))\n",
    "\n",
    "for col_idx in range(col_size):\n",
    "    for row_idx in range(row_size):\n",
    "        n_W_idx = col_idx * row_size + row_idx\n",
    "\n",
    "        aimg = W[n_W_idx].reshape(img_side, img_side)\n",
    "\n",
    "        subplot(col_size, row_size, n_W_idx + 1)\n",
    "\n",
    "        imshow(aimg, interpolation='none', aspect='auto', cmap='bone')\n",
    "        axis(\"off\")\n",
    "\n",
    "show()\n"
   ]
  }
 ],
 "metadata": {
  "kernelspec": {
   "display_name": "Python 3",
   "language": "python",
   "name": "python3"
  },
  "language_info": {
   "codemirror_mode": {
    "name": "ipython",
    "version": 3
   },
   "file_extension": ".py",
   "mimetype": "text/x-python",
   "name": "python",
   "nbconvert_exporter": "python",
   "pygments_lexer": "ipython3",
   "version": "3.10.9"
  },
  "orig_nbformat": 4,
  "vscode": {
   "interpreter": {
    "hash": "aa38ca2d4ac5334f8facb9127846041594939b57ea42b4afe5d7eb655aac64f1"
   }
  }
 },
 "nbformat": 4,
 "nbformat_minor": 2
}
