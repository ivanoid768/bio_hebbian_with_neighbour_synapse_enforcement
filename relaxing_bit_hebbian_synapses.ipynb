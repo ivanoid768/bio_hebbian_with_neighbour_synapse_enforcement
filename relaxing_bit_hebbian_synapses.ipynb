{
 "cells": [
  {
   "cell_type": "code",
   "execution_count": 130,
   "metadata": {},
   "outputs": [],
   "source": [
    "from mnist import MNIST \n",
    "import numpy as np\n",
    "from pylab import *\n",
    "from matplotlib import colors\n",
    "%matplotlib inline\n",
    "\n",
    "mndata = MNIST('./data')\n",
    "\n",
    "mndata.load_training()\n",
    "img_side = 28\n",
    "n_mnist_pixels = img_side*img_side"
   ]
  },
  {
   "cell_type": "code",
   "execution_count": 131,
   "metadata": {},
   "outputs": [
    {
     "data": {
      "text/plain": [
       "20"
      ]
     },
     "execution_count": 131,
     "metadata": {},
     "output_type": "execute_result"
    }
   ],
   "source": [
    "labels = mndata.train_labels\n",
    "\n",
    "cluster_size = 10\n",
    "train_inputs_idx = []\n",
    "for idx in [0, 4]:\n",
    "    label_idx = np.where(np.isin(labels,[idx]))[0][:cluster_size]\n",
    "    train_inputs_idx.append(label_idx)\n",
    "\n",
    "samples_idx = np.array(train_inputs_idx, dtype='int').flatten()\n",
    "samples_idx.size"
   ]
  },
  {
   "cell_type": "code",
   "execution_count": 132,
   "metadata": {},
   "outputs": [
    {
     "data": {
      "text/plain": [
       "(20, 784)"
      ]
     },
     "execution_count": 132,
     "metadata": {},
     "output_type": "execute_result"
    }
   ],
   "source": [
    "images = []\n",
    "for sample_idx in samples_idx.flatten():\n",
    "    images.append(mndata.train_images[sample_idx])\n",
    "\n",
    "images = np.array(images, dtype='float')\n",
    "images[images <= 127] = 0\n",
    "images[images > 127] = 1\n",
    "images.shape"
   ]
  },
  {
   "cell_type": "code",
   "execution_count": 133,
   "metadata": {},
   "outputs": [],
   "source": [
    "def simple_plot(T: list):\n",
    "    T_arr = np.array(T, dtype=float)\n",
    "\n",
    "    fig, axs = plt.subplots(1, 1, figsize=(50, 5), tight_layout=True)\n",
    "    axs.plot(np.arange(T_arr.size), T_arr)\n",
    "\n",
    "\n",
    "    plt.show()"
   ]
  },
  {
   "cell_type": "code",
   "execution_count": 134,
   "metadata": {},
   "outputs": [],
   "source": [
    "from typing import Literal\n",
    "\n",
    "def show_image(image: ndarray, cmap: Literal['bone', 'Greys'] = 'bone'):\n",
    "    # figure(figsize=(15, 10))\n",
    "\n",
    "    imshow(np.array(image),\n",
    "        interpolation='none',\n",
    "        aspect='equal',\n",
    "        cmap=cmap,\n",
    "        )\n",
    "\n",
    "    axis(\"off\")\n",
    "\n",
    "    show()"
   ]
  },
  {
   "cell_type": "code",
   "execution_count": 135,
   "metadata": {},
   "outputs": [
    {
     "data": {
      "text/plain": [
       "(20, 784)"
      ]
     },
     "execution_count": 135,
     "metadata": {},
     "output_type": "execute_result"
    }
   ],
   "source": [
    "def show_images_table(images_2d: ndarray, img_side: int = 28, row_size=10):\n",
    "    column_size = int(images.shape[0] / row_size)\n",
    "\n",
    "    shaped_images = images_2d.reshape(column_size, row_size, img_side, img_side)\n",
    "    shaped_images = shaped_images.swapaxes(1, 2).reshape(column_size*img_side, row_size*img_side)\n",
    "\n",
    "    figure(figsize=(15, 10))\n",
    "\n",
    "    imshow(shaped_images,\n",
    "           interpolation='none',\n",
    "           aspect='equal',\n",
    "           cmap='bone',\n",
    "           )\n",
    "    \n",
    "    axis(\"off\")\n",
    "\n",
    "# show_images_table(images_2d=images)\n",
    "images.shape"
   ]
  },
  {
   "cell_type": "code",
   "execution_count": 136,
   "metadata": {},
   "outputs": [
    {
     "data": {
      "image/png": "[encoded data removed]",
      "text/plain": [
       "<Figure size 1500x1000 with 1 Axes>"
      ]
     },
     "metadata": {},
     "output_type": "display_data"
    }
   ],
   "source": [
    "show_images_table(images_2d=images)"
   ]
  },
  {
   "cell_type": "code",
   "execution_count": 137,
   "metadata": {},
   "outputs": [
    {
     "name": "stdout",
     "output_type": "stream",
     "text": [
      "W.max()=0.009999989725471533 W.min()=4.8073362980405325e-08 np.mean(W)=0.004999523944701871\n",
      "TR.max()=0.0 TR.min()=0.0 np.mean(TR)=0.0\n"
     ]
    },
    {
     "name": "stdout",
     "output_type": "stream",
     "text": [
      "W.max()=1.4681816234328797 W.min()=-1.1737610809720984 np.mean(W)=-0.044493571568563046 np.median(W)=3.761939646844723e-45\n",
      "TR.max()=1.011802717534125 TR.min()=0.0 np.mean(TR)=0.4308371981857779 np.median(W)=3.761939646844723e-45\n"
     ]
    }
   ],
   "source": [
    "prec = 1e-30\n",
    "\n",
    "I = np.zeros(n_mnist_pixels)\n",
    "O = np.zeros(n_mnist_pixels)\n",
    "\n",
    "W = np.random.rand(O.size, I.size) * 0.01\n",
    "\n",
    "TR = np.zeros(n_mnist_pixels)\n",
    "PO = np.zeros(n_mnist_pixels)\n",
    "\n",
    "D = np.zeros(I.shape)\n",
    "\n",
    "print(f'{W.max()=} {W.min()=} {np.mean(W)=}')\n",
    "print(f'{TR.max()=} {TR.min()=} {np.mean(TR)=}')\n",
    "\n",
    "# train\n",
    "epoch_cnt = 100\n",
    "\n",
    "n = 1\n",
    "\n",
    "eps0 = 0.01\n",
    "eps0_TR = 0.005\n",
    "\n",
    "push_delta = 0.04\n",
    "\n",
    "# train_images_idx = [10, 0]\n",
    "train_images_idx = [0, 1, 2, 3, 4, 10, 11, 12, 13, 14]\n",
    "\n",
    "for epoch_idx in range(epoch_cnt):\n",
    "    eps = (epoch_cnt - epoch_idx) * eps0\n",
    "    eps_TR = (epoch_cnt - epoch_idx) * eps0_TR\n",
    "\n",
    "    for img_idx in train_images_idx:\n",
    "        I = np.copy(images[img_idx])\n",
    "\n",
    "        O = np.dot(W, I)  # I[np.newaxis].T ?\n",
    "\n",
    "        O **= n\n",
    "\n",
    "        O /= np.max(np.abs(O)) + prec\n",
    "\n",
    "        # winner\n",
    "        winners_idx = np.where(I > 0)\n",
    "        loosers_idx = np.where(I <= 0)\n",
    "\n",
    "        # threshold update\n",
    "        TR[winners_idx] += (O[winners_idx] - PO[winners_idx] * TR[winners_idx]) * eps_TR\n",
    "\n",
    "        PO[winners_idx] = O[winners_idx]\n",
    "\n",
    "        # W update\n",
    "        D.fill(0)\n",
    "        D[winners_idx] = 1\n",
    "        D[loosers_idx] = -push_delta\n",
    "\n",
    "        W += (I - W * O[np.newaxis].T) * D[np.newaxis].T * eps\n",
    "\n",
    "\n",
    "print(f'{W.max()=} {W.min()=} {np.mean(W)=} {np.median(W)=}')\n",
    "print(f'{TR.max()=} {TR.min()=} {np.mean(TR)=} {np.median(W)=}')\n"
   ]
  }
 ],
 "metadata": {
  "kernelspec": {
   "display_name": "Python 3",
   "language": "python",
   "name": "python3"
  },
  "language_info": {
   "codemirror_mode": {
    "name": "ipython",
    "version": 3
   },
   "file_extension": ".py",
   "mimetype": "text/x-python",
   "name": "python",
   "nbconvert_exporter": "python",
   "pygments_lexer": "ipython3",
   "version": "3.10.11"
  },
  "orig_nbformat": 4,
  "vscode": {
   "interpreter": {
    "hash": "aa38ca2d4ac5334f8facb9127846041594939b57ea42b4afe5d7eb655aac64f1"
   }
  }
 },
 "nbformat": 4,
 "nbformat_minor": 2
}
