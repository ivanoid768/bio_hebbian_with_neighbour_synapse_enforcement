{
 "cells": [
  {
   "cell_type": "code",
   "execution_count": 2,
   "metadata": {},
   "outputs": [],
   "source": [
    "import numpy as np;\n",
    "import pandas as pd\n",
    "import matplotlib.pyplot as plt\n",
    "import seaborn as sns\n",
    "%matplotlib inline"
   ]
  },
  {
   "cell_type": "code",
   "execution_count": 54,
   "metadata": {},
   "outputs": [
    {
     "name": "stdout",
     "output_type": "stream",
     "text": [
      "[[0. 0. 0. 0. 0. 0. 0. 0.]\n",
      " [0. 0. 0. 0. 0. 0. 0. 0.]\n",
      " [0. 0. 0. 0. 0. 0. 0. 0.]\n",
      " [0. 0. 0. 0. 0. 0. 0. 0.]]\n",
      "[[0. 0. 0. 0. 0. 0. 0. 0.]\n",
      " [0. 0. 0. 0. 0. 0. 0. 0.]\n",
      " [0. 0. 0. 0. 0. 0. 0. 0.]\n",
      " [0. 0. 0. 0. 0. 0. 0. 0.]]\n"
     ]
    },
    {
     "data": {
      "text/plain": [
       "array([[ 8.91256729,  8.38895965,  7.26529091,  5.29123059,  7.64846363,\n",
       "         6.77059344,  7.46269072,  8.63082924],\n",
       "       [ 6.05827543,  5.79694369, 10.78720818,  8.02966897, 13.12995324,\n",
       "        14.15222536, 14.02432173,  9.65944995],\n",
       "       [ 6.63373947, 12.76638295, 12.39586083, 13.8517249 ,  9.80258778,\n",
       "        10.77661098, 10.19820671,  4.86547303],\n",
       "       [ 4.98596371,  9.43641617,  9.7494376 ,  6.11802784,  6.01705388,\n",
       "         6.02202152,  7.21590649,  3.26852186]])"
      ]
     },
     "execution_count": 54,
     "metadata": {},
     "output_type": "execute_result"
    }
   ],
   "source": [
    "W = np.random.randint(0, 9, 4*8).reshape(4, 8)\n",
    "\n",
    "syn_n = 1.5\n",
    "syn_size = W.shape[1]\n",
    "W_idx = np.arange(syn_size)\n",
    "W_len = np.abs(W_idx[np.newaxis].T - W_idx)\n",
    "W_len = (np.array(W_len, dtype='float') + 1) ** -syn_n\n",
    "\n",
    "res_sum = np.sum((W.T * W_len[np.newaxis].T).T, axis=1)\n",
    "res_1 = np.tensordot(W, W_len, axes=(1,1)).reshape(W.shape[0],W.shape[1])\n",
    "res_dot = np.dot(W, W_len).reshape(W.shape[0],W.shape[1])\n",
    "print(res_1 - res_sum)\n",
    "print(res_dot - res_sum)\n",
    "res_sum\n"
   ]
  },
  {
   "cell_type": "code",
   "execution_count": 55,
   "metadata": {},
   "outputs": [
    {
     "name": "stdout",
     "output_type": "stream",
     "text": [
      "[[0. 0. 0. 0. 0. 0. 0. 0.]\n",
      " [0. 0. 0. 0. 0. 0. 0. 0.]\n",
      " [0. 0. 0. 0. 0. 0. 0. 0.]\n",
      " [0. 0. 0. 0. 0. 0. 0. 0.]]\n",
      "[[0. 0. 0. 0. 0. 0. 0. 0.]\n",
      " [0. 0. 0. 0. 0. 0. 0. 0.]\n",
      " [0. 0. 0. 0. 0. 0. 0. 0.]\n",
      " [0. 0. 0. 0. 0. 0. 0. 0.]]\n"
     ]
    },
    {
     "data": {
      "text/plain": [
       "array([[ 8.91256729,  8.38895965,  7.26529091,  5.29123059,  7.64846363,\n",
       "         6.77059344,  7.46269072,  8.63082924],\n",
       "       [ 6.05827543,  5.79694369, 10.78720818,  8.02966897, 13.12995324,\n",
       "        14.15222536, 14.02432173,  9.65944995],\n",
       "       [ 6.63373947, 12.76638295, 12.39586083, 13.8517249 ,  9.80258778,\n",
       "        10.77661098, 10.19820671,  4.86547303],\n",
       "       [ 4.98596371,  9.43641617,  9.7494376 ,  6.11802784,  6.01705388,\n",
       "         6.02202152,  7.21590649,  3.26852186]])"
      ]
     },
     "execution_count": 55,
     "metadata": {},
     "output_type": "execute_result"
    }
   ],
   "source": [
    "W_len_2 = np.copy(W_len)\n",
    "\n",
    "dW_2 = np.zeros(W.shape)\n",
    "for n_idx in range(W.shape[0]):\n",
    "    dW_2[n_idx] = np.dot(W[n_idx], W_len_2)\n",
    "print(res_1 - dW_2)\n",
    "print(res_dot - dW_2)\n",
    "dW_2"
   ]
  }
 ],
 "metadata": {
  "kernelspec": {
   "display_name": "Python 3",
   "language": "python",
   "name": "python3"
  },
  "language_info": {
   "codemirror_mode": {
    "name": "ipython",
    "version": 3
   },
   "file_extension": ".py",
   "mimetype": "text/x-python",
   "name": "python",
   "nbconvert_exporter": "python",
   "pygments_lexer": "ipython3",
   "version": "3.10.9"
  },
  "orig_nbformat": 4,
  "vscode": {
   "interpreter": {
    "hash": "aa38ca2d4ac5334f8facb9127846041594939b57ea42b4afe5d7eb655aac64f1"
   }
  }
 },
 "nbformat": 4,
 "nbformat_minor": 2
}
