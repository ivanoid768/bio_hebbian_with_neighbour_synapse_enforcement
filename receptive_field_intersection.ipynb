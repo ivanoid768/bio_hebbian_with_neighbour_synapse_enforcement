{
 "cells": [
  {
   "cell_type": "code",
   "execution_count": 1,
   "metadata": {},
   "outputs": [],
   "source": [
    "import numpy as np;\n",
    "import pandas as pd\n",
    "import matplotlib.pyplot as plt\n",
    "import seaborn as sns\n",
    "%matplotlib inline"
   ]
  },
  {
   "cell_type": "code",
   "execution_count": 44,
   "metadata": {},
   "outputs": [
    {
     "name": "stdout",
     "output_type": "stream",
     "text": [
      "(4, 8)\n",
      "(4, 1, 8)\n",
      "(4, 4, 8)\n",
      "(4, 4)\n"
     ]
    },
    {
     "data": {
      "text/plain": [
       "array([[148.,  74., 122., 126.],\n",
       "       [ 74.,  86., 101., 109.],\n",
       "       [122., 101., 215., 171.],\n",
       "       [126., 109., 171., 247.]])"
      ]
     },
     "execution_count": 44,
     "metadata": {},
     "output_type": "execute_result"
    }
   ],
   "source": [
    "W = np.random.randint(0, 9, 4*8).reshape(4, 8)\n",
    "print(W.shape)\n",
    "WT = np.expand_dims(W, axis=1)\n",
    "print(WT.shape)\n",
    "WW = (WT * W)\n",
    "print(WW.shape)\n",
    "WW44 = np.array(WW.sum(axis=2), dtype='float')\n",
    "print(WW44.shape)\n",
    "WW44"
   ]
  },
  {
   "cell_type": "code",
   "execution_count": 45,
   "metadata": {},
   "outputs": [
    {
     "name": "stdout",
     "output_type": "stream",
     "text": [
      "(4, 4, 8)\n",
      "(4, 4)\n"
     ]
    },
    {
     "data": {
      "text/plain": [
       "array([[148.,  74., 122., 126.],\n",
       "       [ 74.,  86., 101., 109.],\n",
       "       [122., 101., 215., 171.],\n",
       "       [126., 109., 171., 247.]])"
      ]
     },
     "execution_count": 45,
     "metadata": {},
     "output_type": "execute_result"
    }
   ],
   "source": [
    "WW = np.zeros((W.shape[0], W.shape[0], W.shape[1]))\n",
    "\n",
    "for i in range(W.shape[0]):\n",
    "    for k in range(W.shape[0]):\n",
    "        for j in range(W.shape[1]):\n",
    "            WW[i, k, j] = W[i][j] * W[k][j]\n",
    "print(WW.shape)\n",
    "WW44 = WW.sum(axis=2)\n",
    "print(WW44.shape)\n",
    "WW44"
   ]
  }
 ],
 "metadata": {
  "kernelspec": {
   "display_name": "Python 3",
   "language": "python",
   "name": "python3"
  },
  "language_info": {
   "codemirror_mode": {
    "name": "ipython",
    "version": 3
   },
   "file_extension": ".py",
   "mimetype": "text/x-python",
   "name": "python",
   "nbconvert_exporter": "python",
   "pygments_lexer": "ipython3",
   "version": "3.10.9"
  },
  "orig_nbformat": 4,
  "vscode": {
   "interpreter": {
    "hash": "aa38ca2d4ac5334f8facb9127846041594939b57ea42b4afe5d7eb655aac64f1"
   }
  }
 },
 "nbformat": 4,
 "nbformat_minor": 2
}
