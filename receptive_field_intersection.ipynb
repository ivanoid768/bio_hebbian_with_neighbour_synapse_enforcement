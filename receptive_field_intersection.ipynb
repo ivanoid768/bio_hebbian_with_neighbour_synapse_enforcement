{
 "cells": [
  {
   "cell_type": "code",
   "execution_count": 1,
   "metadata": {},
   "outputs": [],
   "source": [
    "import numpy as np;\n",
    "import pandas as pd\n",
    "import matplotlib.pyplot as plt\n",
    "import seaborn as sns\n",
    "%matplotlib inline"
   ]
  },
  {
   "cell_type": "code",
   "execution_count": 11,
   "metadata": {},
   "outputs": [
    {
     "name": "stdout",
     "output_type": "stream",
     "text": [
      "(4, 8)\n",
      "(4, 1, 8)\n",
      "(4, 4, 8)\n",
      "(4, 4)\n",
      "[[8 5 5 3]\n",
      " [5 8 4 1]\n",
      " [5 4 8 3]\n",
      " [3 1 3 8]]\n",
      "(4, 4)\n",
      "[[8 5 5 3]\n",
      " [5 8 4 1]\n",
      " [5 4 8 3]\n",
      " [3 1 3 8]]\n",
      "[[ 0.  7. 18. 17.]\n",
      " [ 7.  0. 23. 22.]\n",
      " [18. 23.  0. 27.]\n",
      " [17. 22. 27.  0.]]\n"
     ]
    },
    {
     "data": {
      "text/plain": [
       "array([[27., 20.,  9., 10.],\n",
       "       [20., 27.,  4.,  5.],\n",
       "       [ 9.,  4., 27.,  0.],\n",
       "       [10.,  5.,  0., 27.]])"
      ]
     },
     "execution_count": 11,
     "metadata": {},
     "output_type": "execute_result"
    }
   ],
   "source": [
    "W = np.random.randint(-4, 9, 4*8).reshape(4, 8)\n",
    "mask = np.random.choice([0, 1], size=4*8, p=[.6, .4]).reshape(4, 8)\n",
    "# print(mask)\n",
    "W = W * mask\n",
    "print(W.shape)\n",
    "WT = np.expand_dims(W, axis=1)\n",
    "print(WT.shape)\n",
    "WW = np.abs(WT - W)\n",
    "print(WW.shape)\n",
    "# print(f'{WW=}')\n",
    "WW44 = np.array(WW.sum(axis=2), dtype='float')\n",
    "n_zeros = np.count_nonzero(WW==0, axis=2)\n",
    "print(n_zeros.shape)\n",
    "print(n_zeros)\n",
    "n_zeros = np.sum(WW==0, axis=2)\n",
    "print(n_zeros.shape)\n",
    "print(n_zeros)\n",
    "print(WW44)\n",
    "np.max(WW44) - WW44\n"
   ]
  },
  {
   "cell_type": "code",
   "execution_count": 3,
   "metadata": {},
   "outputs": [
    {
     "name": "stdout",
     "output_type": "stream",
     "text": [
      "(4, 4, 8)\n",
      "(4, 4)\n"
     ]
    },
    {
     "data": {
      "text/plain": [
       "array([[ 0., 23.,  6.,  6.],\n",
       "       [23.,  0., 25., 21.],\n",
       "       [ 6., 25.,  0.,  8.],\n",
       "       [ 6., 21.,  8.,  0.]])"
      ]
     },
     "execution_count": 3,
     "metadata": {},
     "output_type": "execute_result"
    }
   ],
   "source": [
    "WW = np.zeros((W.shape[0], W.shape[0], W.shape[1]))\n",
    "\n",
    "for i in range(W.shape[0]):\n",
    "    for k in range(W.shape[0]):\n",
    "        for j in range(W.shape[1]):\n",
    "            WW[i, k, j] = np.abs(W[i][j] - W[k][j])\n",
    "print(WW.shape)\n",
    "WW44_2 = WW.sum(axis=2)\n",
    "print(WW44_2.shape)\n",
    "WW44_2"
   ]
  },
  {
   "cell_type": "code",
   "execution_count": 4,
   "metadata": {},
   "outputs": [
    {
     "data": {
      "text/plain": [
       "0.0"
      ]
     },
     "execution_count": 4,
     "metadata": {},
     "output_type": "execute_result"
    }
   ],
   "source": [
    "np.sum(WW44-WW44_2)\n"
   ]
  },
  {
   "cell_type": "code",
   "execution_count": 5,
   "metadata": {},
   "outputs": [
    {
     "name": "stdout",
     "output_type": "stream",
     "text": [
      "[[ 4  1  5  0 -3 -3  2  8]\n",
      " [-3  3  6  4 -3 -4  6 -1]\n",
      " [ 2  7  7  8 -4  6  4  5]\n",
      " [-2 -4 -4 -4  8 -2  2  8]]\n"
     ]
    },
    {
     "data": {
      "text/plain": [
       "7"
      ]
     },
     "execution_count": 5,
     "metadata": {},
     "output_type": "execute_result"
    }
   ],
   "source": [
    "W = np.random.randint(-4, 9, 4*8).reshape(4, 8)\n",
    "print(W)\n",
    "WTr = 0.5 * np.mean(np.abs(W), axis=1)\n",
    "W[np.where(np.abs(W) < WTr[np.newaxis].T)] = 0\n",
    "np.sum(W == 0)"
   ]
  },
  {
   "cell_type": "code",
   "execution_count": 6,
   "metadata": {},
   "outputs": [
    {
     "name": "stdout",
     "output_type": "stream",
     "text": [
      "O=array([4., 8., 2., 6., 1., 1., 8., 2., 2., 5., 3., 5., 6., 4., 3., 8., 7.,\n",
      "       3., 6., 4., 8., 7., 8., 7., 3., 2., 6., 7., 1., 7., 3., 5., 6., 1.,\n",
      "       7., 8., 6., 7., 1., 2., 6., 2., 2., 7., 4., 3., 5., 8., 2., 4., 3.,\n",
      "       1., 6., 5., 7., 8., 7., 3., 8., 6., 2., 7., 5., 2., 1., 1., 8., 5.,\n",
      "       2., 6., 3., 3., 8., 7., 8., 3., 5., 6., 7., 1.])\n",
      "OF=array([[0., 0., 0., ..., 0., 4., 0.],\n",
      "       [0., 0., 8., ..., 0., 0., 8.],\n",
      "       [2., 2., 2., ..., 0., 0., 2.],\n",
      "       ...,\n",
      "       [0., 0., 0., ..., 0., 0., 0.],\n",
      "       [0., 0., 0., ..., 0., 7., 7.],\n",
      "       [1., 0., 0., ..., 0., 0., 1.]])\n",
      "win= []\n",
      "loose= []\n"
     ]
    },
    {
     "data": {
      "text/plain": [
       "array([0., 0., 0., 0., 0., 0., 0., 0., 0., 0., 0., 0., 0., 0., 0., 0., 0.,\n",
       "       0., 0., 0., 0., 0., 0., 0., 0., 0., 0., 0., 0., 0., 0., 0., 0., 0.,\n",
       "       0., 0., 0., 0., 0., 0., 0., 0., 0., 0., 0., 0., 0., 0., 0., 0., 0.,\n",
       "       0., 0., 0., 0., 0., 0., 0., 0., 0., 0., 0., 0., 0., 0., 0., 0., 0.,\n",
       "       0., 0., 0., 0., 0., 0., 0., 0., 0., 0., 0., 0.])"
      ]
     },
     "execution_count": 6,
     "metadata": {},
     "output_type": "execute_result"
    }
   ],
   "source": [
    "size = 80\n",
    "k = 1\n",
    "pd = 0.4\n",
    "O = np.random.randint(1, 9, size).astype('float')\n",
    "RFI = np.random.choice([0, 1], size=size*size, p=[.7, .3]).reshape(size, size)\n",
    "\n",
    "OF = O[np.newaxis].T * RFI\n",
    "print(f'{O=}')\n",
    "print(f'{OF=}')\n",
    "\n",
    "ArS = np.argsort(OF, axis=0)[::-1][0:1+k]\n",
    "# print(f'{ArS=}')\n",
    "# print(f'{ArS[0]=}')\n",
    "O_idx = np.arange(O.size)\n",
    "winner_idx = np.where(O_idx == ArS[0])\n",
    "# print(winner_idx)\n",
    "ars = ArS.T[winner_idx].T\n",
    "# ArS[:, winner_idx] faster?\n",
    "# print(ars)\n",
    "# O[winner_idx]\n",
    "# ars[0] = 1\n",
    "# ars[1+k] = pd\n",
    "print('win=',ars[0].flatten())\n",
    "print('loose=',ars[1:1+k].flatten())\n",
    "\n",
    "O.fill(0)\n",
    "O[ars[0].flatten()] = 1\n",
    "O[ars[1:1+k].flatten()] = -pd\n",
    "O"
   ]
  }
 ],
 "metadata": {
  "kernelspec": {
   "display_name": "Python 3",
   "language": "python",
   "name": "python3"
  },
  "language_info": {
   "codemirror_mode": {
    "name": "ipython",
    "version": 3
   },
   "file_extension": ".py",
   "mimetype": "text/x-python",
   "name": "python",
   "nbconvert_exporter": "python",
   "pygments_lexer": "ipython3",
   "version": "3.10.9"
  },
  "orig_nbformat": 4,
  "vscode": {
   "interpreter": {
    "hash": "aa38ca2d4ac5334f8facb9127846041594939b57ea42b4afe5d7eb655aac64f1"
   }
  }
 },
 "nbformat": 4,
 "nbformat_minor": 2
}
