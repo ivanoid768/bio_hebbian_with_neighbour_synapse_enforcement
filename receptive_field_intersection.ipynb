{
 "cells": [
  {
   "cell_type": "code",
   "execution_count": 2,
   "metadata": {},
   "outputs": [],
   "source": [
    "import numpy as np;\n",
    "import pandas as pd\n",
    "import matplotlib.pyplot as plt\n",
    "import seaborn as sns\n",
    "%matplotlib inline"
   ]
  },
  {
   "cell_type": "code",
   "execution_count": 3,
   "metadata": {},
   "outputs": [
    {
     "name": "stdout",
     "output_type": "stream",
     "text": [
      "(4, 8)\n",
      "(4, 1, 8)\n",
      "(4, 4, 8)\n",
      "(4, 4)\n"
     ]
    },
    {
     "data": {
      "text/plain": [
       "array([[46.,  0.,  0., 26.],\n",
       "       [ 0.,  9., 15., 21.],\n",
       "       [ 0., 15., 25., 35.],\n",
       "       [26., 21., 35., 91.]])"
      ]
     },
     "execution_count": 3,
     "metadata": {},
     "output_type": "execute_result"
    }
   ],
   "source": [
    "W = np.random.randint(-4, 9, 4*8).reshape(4, 8)\n",
    "mask = np.random.choice([0, 1], size=4*8, p=[.6, .4]).reshape(4, 8)\n",
    "# print(mask)\n",
    "W = W * mask\n",
    "print(W.shape)\n",
    "WT = np.expand_dims(W, axis=1)\n",
    "print(WT.shape)\n",
    "WW = np.abs(WT * W)\n",
    "print(WW.shape)\n",
    "WW44 = np.array(WW.sum(axis=2), dtype='float')\n",
    "print(WW44.shape)\n",
    "WW44\n"
   ]
  },
  {
   "cell_type": "code",
   "execution_count": 4,
   "metadata": {},
   "outputs": [
    {
     "name": "stdout",
     "output_type": "stream",
     "text": [
      "(4, 4, 8)\n",
      "(4, 4)\n"
     ]
    },
    {
     "data": {
      "text/plain": [
       "array([[46.,  0.,  0., 26.],\n",
       "       [ 0.,  9., 15., 21.],\n",
       "       [ 0., 15., 25., 35.],\n",
       "       [26., 21., 35., 91.]])"
      ]
     },
     "execution_count": 4,
     "metadata": {},
     "output_type": "execute_result"
    }
   ],
   "source": [
    "WW = np.zeros((W.shape[0], W.shape[0], W.shape[1]))\n",
    "\n",
    "for i in range(W.shape[0]):\n",
    "    for k in range(W.shape[0]):\n",
    "        for j in range(W.shape[1]):\n",
    "            WW[i, k, j] = np.abs(W[i][j] * W[k][j])\n",
    "print(WW.shape)\n",
    "WW44_2 = WW.sum(axis=2)\n",
    "print(WW44_2.shape)\n",
    "WW44_2"
   ]
  },
  {
   "cell_type": "code",
   "execution_count": 5,
   "metadata": {},
   "outputs": [
    {
     "data": {
      "text/plain": [
       "0.0"
      ]
     },
     "execution_count": 5,
     "metadata": {},
     "output_type": "execute_result"
    }
   ],
   "source": [
    "np.sum(WW44-WW44_2)\n"
   ]
  },
  {
   "cell_type": "code",
   "execution_count": 45,
   "metadata": {},
   "outputs": [
    {
     "name": "stdout",
     "output_type": "stream",
     "text": [
      "[[ 8 -1  2 -2  2  8  3 -4]\n",
      " [-3  3 -1 -3 -1 -4  5  0]\n",
      " [ 2  3 -1 -3  5 -4  4  3]\n",
      " [-2  8 -1  7  6  6 -3 -1]]\n"
     ]
    },
    {
     "data": {
      "text/plain": [
       "8"
      ]
     },
     "execution_count": 45,
     "metadata": {},
     "output_type": "execute_result"
    }
   ],
   "source": [
    "W = np.random.randint(-4, 9, 4*8).reshape(4, 8)\n",
    "print(W)\n",
    "WTr = 0.5 * np.mean(np.abs(W), axis=1)\n",
    "W[np.where(np.abs(W) < WTr[np.newaxis].T)] = 0\n",
    "np.sum(W == 0)"
   ]
  }
 ],
 "metadata": {
  "kernelspec": {
   "display_name": "Python 3",
   "language": "python",
   "name": "python3"
  },
  "language_info": {
   "codemirror_mode": {
    "name": "ipython",
    "version": 3
   },
   "file_extension": ".py",
   "mimetype": "text/x-python",
   "name": "python",
   "nbconvert_exporter": "python",
   "pygments_lexer": "ipython3",
   "version": "3.10.9"
  },
  "orig_nbformat": 4,
  "vscode": {
   "interpreter": {
    "hash": "aa38ca2d4ac5334f8facb9127846041594939b57ea42b4afe5d7eb655aac64f1"
   }
  }
 },
 "nbformat": 4,
 "nbformat_minor": 2
}
