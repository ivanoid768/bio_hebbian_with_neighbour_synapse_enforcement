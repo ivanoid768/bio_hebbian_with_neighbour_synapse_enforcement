{
 "cells": [
  {
   "cell_type": "code",
   "execution_count": 1,
   "metadata": {},
   "outputs": [],
   "source": [
    "import numpy as np;\n",
    "import pandas as pd\n",
    "import matplotlib.pyplot as plt\n",
    "import seaborn as sns\n",
    "%matplotlib inline"
   ]
  },
  {
   "cell_type": "code",
   "execution_count": 7,
   "metadata": {},
   "outputs": [
    {
     "name": "stdout",
     "output_type": "stream",
     "text": [
      "(4, 8)\n",
      "(4, 1, 8)\n",
      "(4, 4, 8)\n",
      "(4, 4)\n",
      "[[4 4 7 6]\n",
      " [4 2 6 5]\n",
      " [7 6 5 6]\n",
      " [6 5 6 4]]\n",
      "(4, 4)\n",
      "[[4 4 7 6]\n",
      " [4 2 6 5]\n",
      " [7 6 5 6]\n",
      " [6 5 6 4]]\n",
      "(4, 4)\n"
     ]
    },
    {
     "data": {
      "text/plain": [
       "array([[ 70.,  77.,  21.,  20.],\n",
       "       [ 77., 141.,  56.,  20.],\n",
       "       [ 21.,  56.,  99.,  31.],\n",
       "       [ 20.,  20.,  31.,  65.]])"
      ]
     },
     "execution_count": 7,
     "metadata": {},
     "output_type": "execute_result"
    }
   ],
   "source": [
    "W = np.random.randint(-4, 9, 4*8).reshape(4, 8)\n",
    "mask = np.random.choice([0, 1], size=4*8, p=[.6, .4]).reshape(4, 8)\n",
    "# print(mask)\n",
    "W = W * mask\n",
    "print(W.shape)\n",
    "WT = np.expand_dims(W, axis=1)\n",
    "print(WT.shape)\n",
    "WW = np.abs(WT * W)\n",
    "print(WW.shape)\n",
    "WW44 = np.array(WW.sum(axis=2), dtype='float')\n",
    "n_zeros = np.count_nonzero(WW==0, axis=2)\n",
    "print(n_zeros.shape)\n",
    "print(n_zeros)\n",
    "n_zeros = np.sum(WW==0, axis=2)\n",
    "print(n_zeros.shape)\n",
    "print(n_zeros)\n",
    "print(WW44.shape)\n",
    "WW44\n"
   ]
  },
  {
   "cell_type": "code",
   "execution_count": 3,
   "metadata": {},
   "outputs": [
    {
     "name": "stdout",
     "output_type": "stream",
     "text": [
      "(4, 4, 8)\n",
      "(4, 4)\n"
     ]
    },
    {
     "data": {
      "text/plain": [
       "array([[ 50.,  39.,   2.,   2.],\n",
       "       [ 39., 122.,   6.,   0.],\n",
       "       [  2.,   6.,   8.,   4.],\n",
       "       [  2.,   0.,   4.,  20.]])"
      ]
     },
     "execution_count": 3,
     "metadata": {},
     "output_type": "execute_result"
    }
   ],
   "source": [
    "WW = np.zeros((W.shape[0], W.shape[0], W.shape[1]))\n",
    "\n",
    "for i in range(W.shape[0]):\n",
    "    for k in range(W.shape[0]):\n",
    "        for j in range(W.shape[1]):\n",
    "            WW[i, k, j] = np.abs(W[i][j] * W[k][j])\n",
    "print(WW.shape)\n",
    "WW44_2 = WW.sum(axis=2)\n",
    "print(WW44_2.shape)\n",
    "WW44_2"
   ]
  },
  {
   "cell_type": "code",
   "execution_count": 4,
   "metadata": {},
   "outputs": [
    {
     "data": {
      "text/plain": [
       "0.0"
      ]
     },
     "execution_count": 4,
     "metadata": {},
     "output_type": "execute_result"
    }
   ],
   "source": [
    "np.sum(WW44-WW44_2)\n"
   ]
  },
  {
   "cell_type": "code",
   "execution_count": 5,
   "metadata": {},
   "outputs": [
    {
     "name": "stdout",
     "output_type": "stream",
     "text": [
      "[[ 8 -2 -3  7  3  6  5  7]\n",
      " [ 1  1  0  6  8  3 -3  1]\n",
      " [ 5 -4  4  5  0  5  8 -4]\n",
      " [-1  8  1  2 -2  1 -1 -3]]\n"
     ]
    },
    {
     "data": {
      "text/plain": [
       "10"
      ]
     },
     "execution_count": 5,
     "metadata": {},
     "output_type": "execute_result"
    }
   ],
   "source": [
    "W = np.random.randint(-4, 9, 4*8).reshape(4, 8)\n",
    "print(W)\n",
    "WTr = 0.5 * np.mean(np.abs(W), axis=1)\n",
    "W[np.where(np.abs(W) < WTr[np.newaxis].T)] = 0\n",
    "np.sum(W == 0)"
   ]
  }
 ],
 "metadata": {
  "kernelspec": {
   "display_name": "Python 3",
   "language": "python",
   "name": "python3"
  },
  "language_info": {
   "codemirror_mode": {
    "name": "ipython",
    "version": 3
   },
   "file_extension": ".py",
   "mimetype": "text/x-python",
   "name": "python",
   "nbconvert_exporter": "python",
   "pygments_lexer": "ipython3",
   "version": "3.10.9"
  },
  "orig_nbformat": 4,
  "vscode": {
   "interpreter": {
    "hash": "aa38ca2d4ac5334f8facb9127846041594939b57ea42b4afe5d7eb655aac64f1"
   }
  }
 },
 "nbformat": 4,
 "nbformat_minor": 2
}
