{
 "cells": [
  {
   "cell_type": "code",
   "execution_count": 76,
   "metadata": {},
   "outputs": [],
   "source": [
    "import numpy as np;\n",
    "import pandas as pd\n",
    "import matplotlib.pyplot as plt\n",
    "import seaborn as sns\n",
    "%matplotlib inline"
   ]
  },
  {
   "cell_type": "code",
   "execution_count": 98,
   "metadata": {},
   "outputs": [
    {
     "name": "stdout",
     "output_type": "stream",
     "text": [
      "(4, 8)\n",
      "(4, 1, 8)\n",
      "(4, 4, 8)\n",
      "(4, 4)\n"
     ]
    },
    {
     "data": {
      "text/plain": [
       "array([[99., 13., 17., 12.],\n",
       "       [13., 54.,  0.,  0.],\n",
       "       [17.,  0., 34., 12.],\n",
       "       [12.,  0., 12., 25.]])"
      ]
     },
     "execution_count": 98,
     "metadata": {},
     "output_type": "execute_result"
    }
   ],
   "source": [
    "W = np.random.randint(-4, 9, 4*8).reshape(4, 8)\n",
    "mask = np.random.choice([0, 1], size=4*8, p=[.6, .4]).reshape(4, 8)\n",
    "# print(mask)\n",
    "W = W * mask\n",
    "print(W.shape)\n",
    "WT = np.expand_dims(W, axis=1)\n",
    "print(WT.shape)\n",
    "WW = np.abs(WT * W)\n",
    "print(WW.shape)\n",
    "WW44 = np.array(WW.sum(axis=2), dtype='float')\n",
    "print(WW44.shape)\n",
    "WW44\n"
   ]
  },
  {
   "cell_type": "code",
   "execution_count": 99,
   "metadata": {},
   "outputs": [
    {
     "name": "stdout",
     "output_type": "stream",
     "text": [
      "(4, 4, 8)\n",
      "(4, 4)\n"
     ]
    },
    {
     "data": {
      "text/plain": [
       "array([[99., 13., 17., 12.],\n",
       "       [13., 54.,  0.,  0.],\n",
       "       [17.,  0., 34., 12.],\n",
       "       [12.,  0., 12., 25.]])"
      ]
     },
     "execution_count": 99,
     "metadata": {},
     "output_type": "execute_result"
    }
   ],
   "source": [
    "WW = np.zeros((W.shape[0], W.shape[0], W.shape[1]))\n",
    "\n",
    "for i in range(W.shape[0]):\n",
    "    for k in range(W.shape[0]):\n",
    "        for j in range(W.shape[1]):\n",
    "            WW[i, k, j] = np.abs(W[i][j] * W[k][j])\n",
    "print(WW.shape)\n",
    "WW44_2 = WW.sum(axis=2)\n",
    "print(WW44_2.shape)\n",
    "WW44_2"
   ]
  },
  {
   "cell_type": "code",
   "execution_count": 100,
   "metadata": {},
   "outputs": [
    {
     "data": {
      "text/plain": [
       "0.0"
      ]
     },
     "execution_count": 100,
     "metadata": {},
     "output_type": "execute_result"
    }
   ],
   "source": [
    "np.sum(WW44-WW44_2)\n"
   ]
  }
 ],
 "metadata": {
  "kernelspec": {
   "display_name": "Python 3",
   "language": "python",
   "name": "python3"
  },
  "language_info": {
   "codemirror_mode": {
    "name": "ipython",
    "version": 3
   },
   "file_extension": ".py",
   "mimetype": "text/x-python",
   "name": "python",
   "nbconvert_exporter": "python",
   "pygments_lexer": "ipython3",
   "version": "3.10.9 (tags/v3.10.9:1dd9be6, Dec  6 2022, 20:01:21) [MSC v.1934 64 bit (AMD64)]"
  },
  "orig_nbformat": 4,
  "vscode": {
   "interpreter": {
    "hash": "aa38ca2d4ac5334f8facb9127846041594939b57ea42b4afe5d7eb655aac64f1"
   }
  }
 },
 "nbformat": 4,
 "nbformat_minor": 2
}
