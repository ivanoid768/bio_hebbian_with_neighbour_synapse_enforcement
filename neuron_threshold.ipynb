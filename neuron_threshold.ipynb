{
 "cells": [
  {
   "cell_type": "code",
   "execution_count": null,
   "metadata": {},
   "outputs": [],
   "source": [
    "from mnist import MNIST \n",
    "import numpy as np\n",
    "from pylab import *\n",
    "from matplotlib import colors\n",
    "%matplotlib inline\n",
    "\n",
    "mndata = MNIST('./data')\n",
    "\n",
    "mndata.load_training()\n",
    "img_side = 28\n",
    "n_mnist_pixels = img_side*img_side"
   ]
  },
  {
   "cell_type": "code",
   "execution_count": null,
   "metadata": {},
   "outputs": [],
   "source": [
    "labels = mndata.train_labels\n",
    "\n",
    "cluster_size = 10\n",
    "train_inputs_idx = []\n",
    "for idx in range(10):\n",
    "    label_idx = np.where(np.isin(labels,[idx]))[0][:cluster_size]\n",
    "    train_inputs_idx.append(label_idx)\n",
    "\n",
    "samples_idx = np.array(train_inputs_idx, dtype='int').flatten()\n",
    "samples_idx.size"
   ]
  },
  {
   "cell_type": "code",
   "execution_count": null,
   "metadata": {},
   "outputs": [],
   "source": [
    "layer_size = 10*4\n",
    "\n",
    "I = np.zeros(n_mnist_pixels)\n",
    "O = np.zeros(layer_size)\n",
    "W = np.random.rand(O.size, I.size) * 0.001\n",
    "print('W', W.shape, W.max(), W.min(), np.median(W))\n",
    "\n",
    "k = 1\n",
    "push_delta = 0.4\n",
    "\n",
    "prec = 1e-30\n",
    "\n",
    "epoch_cnt = 100\n",
    "eps0 = 0.02\n",
    "\n",
    "for epoch_idx in range(epoch_cnt):\n",
    "    eps = (epoch_cnt - epoch_idx) * eps0\n",
    "\n",
    "    for i_idx in samples_idx:\n",
    "        img = mndata.train_images[i_idx]\n",
    "        I = np.array(img) / 255\n",
    "\n",
    "        # infer\n",
    "        O = np.dot(W, I)\n",
    "\n",
    "        # train\n",
    "        winner_ids = np.argsort(O)[::-1]\n",
    "\n",
    "        D = np.zeros(O.shape)\n",
    "        D[winner_ids[0]] = 1\n",
    "        D[winner_ids[1:1+k]] = -push_delta\n",
    "        D = D[np.newaxis].T\n",
    "\n",
    "        dW = I - (W * O[np.newaxis].T)\n",
    "\n",
    "        # norm\n",
    "        # nc = np.max(np.abs(dW), axis=1)\n",
    "        nc = np.linalg.norm(dW, axis=1, ord=1)\n",
    "        nc[np.where(nc < prec)] = prec\n",
    "        nc = nc[np.newaxis].T\n",
    "        dW /= nc\n",
    "\n",
    "        # update\n",
    "        O /= np.max(np.abs(O))\n",
    "        O = O[np.newaxis].T\n",
    "\n",
    "        W += dW * O * D * eps       \n",
    "\n",
    "print('W', W.shape, W.max(), W.min(), np.median(W))"
   ]
  },
  {
   "cell_type": "code",
   "execution_count": null,
   "metadata": {},
   "outputs": [],
   "source": [
    "row_size = 10\n",
    "col_size = int(layer_size / row_size)\n",
    "\n",
    "figure(figsize=(row_size, col_size))\n",
    "\n",
    "for col_idx in range(col_size):\n",
    "    for row_idx in range(row_size):\n",
    "        n_W_idx = col_idx * row_size + row_idx\n",
    "\n",
    "        aimg = W[n_W_idx].reshape(img_side, img_side)\n",
    "\n",
    "        subplot(col_size, row_size, n_W_idx + 1)\n",
    "\n",
    "        imshow(aimg,\n",
    "               interpolation='none',\n",
    "               aspect='auto',\n",
    "               cmap='bone',  # seismic\n",
    "            #    vmax=1,\n",
    "            #    vmin=-1,\n",
    "               #    vmax=np.max(np.abs(aimg)),\n",
    "               #    vmin=-np.max(np.abs(aimg))\n",
    "               )\n",
    "        axis(\"off\")\n",
    "\n",
    "show()"
   ]
  }
 ],
 "metadata": {
  "kernelspec": {
   "display_name": "Python 3",
   "language": "python",
   "name": "python3"
  },
  "language_info": {
   "name": "python",
   "version": "3.10.9 (tags/v3.10.9:1dd9be6, Dec  6 2022, 20:01:21) [MSC v.1934 64 bit (AMD64)]"
  },
  "orig_nbformat": 4,
  "vscode": {
   "interpreter": {
    "hash": "aa38ca2d4ac5334f8facb9127846041594939b57ea42b4afe5d7eb655aac64f1"
   }
  }
 },
 "nbformat": 4,
 "nbformat_minor": 2
}
